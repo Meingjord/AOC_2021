{
 "cells": [
  {
   "cell_type": "code",
   "execution_count": 53,
   "metadata": {},
   "outputs": [],
   "source": [
    "import pandas as pd\n",
    "import os\n",
    "import copy\n",
    "import unittest\n",
    "import string\n",
    "import re\n",
    "\n",
    "def read_file(trainFile):\n",
    "    pwd = os.getcwd()\n",
    "    os.chdir(os.path.dirname(trainFile))\n",
    "    file1 = open(trainFile, 'r') \n",
    "    lines = file1.read().splitlines()\n",
    "    return lines"
   ]
  },
  {
   "cell_type": "code",
   "execution_count": 54,
   "metadata": {},
   "outputs": [],
   "source": [
    "lines = read_file(\"C:/Code/advent/2021_day12_input.txt\")"
   ]
  },
  {
   "cell_type": "code",
   "execution_count": 55,
   "metadata": {},
   "outputs": [
    {
     "data": {
      "text/plain": [
       "['start-A', 'start-b', 'A-c', 'A-b', 'b-d', 'A-end', 'b-end']"
      ]
     },
     "execution_count": 55,
     "metadata": {},
     "output_type": "execute_result"
    }
   ],
   "source": [
    "lines_example1 = read_file(\"C:/Code/advent/2021_day12_example1.txt\")\n",
    "lines_example1"
   ]
  },
  {
   "cell_type": "code",
   "execution_count": 56,
   "metadata": {},
   "outputs": [
    {
     "data": {
      "text/plain": [
       "['dc-end',\n",
       " 'HN-start',\n",
       " 'start-kj',\n",
       " 'dc-start',\n",
       " 'dc-HN',\n",
       " 'LN-dc',\n",
       " 'HN-end',\n",
       " 'kj-sa',\n",
       " 'kj-HN',\n",
       " 'kj-dc']"
      ]
     },
     "execution_count": 56,
     "metadata": {},
     "output_type": "execute_result"
    }
   ],
   "source": [
    "lines_example2 = read_file(\"C:/Code/advent/2021_day12_example2.txt\")\n",
    "lines_example2"
   ]
  },
  {
   "cell_type": "code",
   "execution_count": 57,
   "metadata": {},
   "outputs": [
    {
     "data": {
      "text/plain": [
       "['fs-end',\n",
       " 'he-DX',\n",
       " 'fs-he',\n",
       " 'start-DX',\n",
       " 'pj-DX',\n",
       " 'end-zg',\n",
       " 'zg-sl',\n",
       " 'zg-pj',\n",
       " 'pj-he',\n",
       " 'RW-he',\n",
       " 'fs-DX',\n",
       " 'pj-RW',\n",
       " 'zg-RW',\n",
       " 'start-pj',\n",
       " 'he-WI',\n",
       " 'zg-he',\n",
       " 'pj-fs',\n",
       " 'start-RW']"
      ]
     },
     "execution_count": 57,
     "metadata": {},
     "output_type": "execute_result"
    }
   ],
   "source": [
    "lines_example3 = read_file(\"C:/Code/advent/2021_day12_example3.txt\")\n",
    "lines_example3"
   ]
  },
  {
   "cell_type": "code",
   "execution_count": 58,
   "metadata": {},
   "outputs": [
    {
     "data": {
      "text/plain": [
       "({'A', 'b', 'c', 'd', 'end', 'start'},\n",
       " {('A', 'b'),\n",
       "  ('A', 'c'),\n",
       "  ('A', 'end'),\n",
       "  ('A', 'start'),\n",
       "  ('b', 'A'),\n",
       "  ('b', 'd'),\n",
       "  ('b', 'end'),\n",
       "  ('b', 'start'),\n",
       "  ('c', 'A'),\n",
       "  ('d', 'b'),\n",
       "  ('end', 'A'),\n",
       "  ('end', 'b'),\n",
       "  ('start', 'A'),\n",
       "  ('start', 'b')})"
      ]
     },
     "execution_count": 58,
     "metadata": {},
     "output_type": "execute_result"
    }
   ],
   "source": [
    "def parse(input):\n",
    "    edges = set()\n",
    "    nodes = set()\n",
    "    for line in input:\n",
    "        parts = line.split('-')\n",
    "        (node1, node2) = (parts[0], parts[1])\n",
    "        edges.add((node1,node2))\n",
    "        edges.add((node2,node1))\n",
    "        nodes.add(node1)\n",
    "        nodes.add(node2)\n",
    "    graph = (nodes, edges)\n",
    "    return graph\n",
    "\n",
    "parse(lines_example1)"
   ]
  },
  {
   "cell_type": "code",
   "execution_count": 59,
   "metadata": {},
   "outputs": [
    {
     "data": {
      "text/plain": [
       "10"
      ]
     },
     "execution_count": 59,
     "metadata": {},
     "output_type": "execute_result"
    }
   ],
   "source": [
    "def advance(item, graph):\n",
    "    result = []\n",
    "    (nodes, edges) = graph    \n",
    "    \n",
    "    remaining_nodes = copy.deepcopy(nodes)\n",
    "    for node in item:\n",
    "        if node.islower():\n",
    "            remaining_nodes.remove(node)\n",
    "    new_items = []\n",
    "    for r in remaining_nodes:\n",
    "        current_node = item[-1]\n",
    "        if (current_node,r) in edges:\n",
    "            new_path = copy.deepcopy(item)\n",
    "            new_path.append(r)\n",
    "            new_items.append(new_path)\n",
    "    for new_item in new_items:\n",
    "        if 'end' in new_item:\n",
    "            result.append(new_item)\n",
    "        else:\n",
    "            more_items = advance(new_item,graph)\n",
    "            for more in more_items:\n",
    "                result.append(more)\n",
    "\n",
    "    return result\n",
    "\n",
    "def calculate_part_one(input):        \n",
    "    solutions =  advance(['start'], input)\n",
    "    return len(solutions)    \n",
    "\n",
    "calculate_part_one(parse(lines_example1))"
   ]
  },
  {
   "cell_type": "code",
   "execution_count": 60,
   "metadata": {},
   "outputs": [
    {
     "data": {
      "text/plain": [
       "19"
      ]
     },
     "execution_count": 60,
     "metadata": {},
     "output_type": "execute_result"
    }
   ],
   "source": [
    "calculate_part_one(parse(lines_example2))"
   ]
  },
  {
   "cell_type": "code",
   "execution_count": 61,
   "metadata": {},
   "outputs": [
    {
     "data": {
      "text/plain": [
       "226"
      ]
     },
     "execution_count": 61,
     "metadata": {},
     "output_type": "execute_result"
    }
   ],
   "source": [
    "calculate_part_one(parse(lines_example3))"
   ]
  },
  {
   "cell_type": "code",
   "execution_count": 62,
   "metadata": {},
   "outputs": [
    {
     "data": {
      "text/plain": [
       "4411"
      ]
     },
     "execution_count": 62,
     "metadata": {},
     "output_type": "execute_result"
    }
   ],
   "source": [
    "calculate_part_one(parse(lines))"
   ]
  },
  {
   "cell_type": "code",
   "execution_count": 63,
   "metadata": {},
   "outputs": [
    {
     "data": {
      "text/plain": [
       "36"
      ]
     },
     "execution_count": 63,
     "metadata": {},
     "output_type": "execute_result"
    }
   ],
   "source": [
    "def has_duplicates(input, nodes):\n",
    "    for node in nodes:\n",
    "        if node.islower() and node != 'start':\n",
    "            if input.count(node) > 1:\n",
    "                return True\n",
    "    return False\n",
    "\n",
    "def advance_part_two(item, graph):\n",
    "    result = []\n",
    "    (nodes, edges) = graph    \n",
    "    \n",
    "    remaining_nodes = copy.deepcopy(nodes)\n",
    "    remove_duplicates = has_duplicates(item, nodes)\n",
    "    for node in item:\n",
    "        if node.islower():\n",
    "            if node == 'start' or remove_duplicates:\n",
    "                if node in remaining_nodes:\n",
    "                    remaining_nodes.remove(node)\n",
    "                \n",
    "    new_items = []\n",
    "    for r in remaining_nodes:\n",
    "        current_node = item[-1]\n",
    "        if (current_node,r) in edges:\n",
    "            new_path = copy.deepcopy(item)\n",
    "            new_path.append(r)\n",
    "            new_items.append(new_path)\n",
    "    for new_item in new_items:\n",
    "        if 'end' in new_item:\n",
    "            result.append(new_item)\n",
    "        else:\n",
    "            more_items = advance_part_two(new_item,graph)\n",
    "            for more in more_items:\n",
    "                result.append(more)\n",
    "\n",
    "    return result\n",
    "\n",
    "def calculate_part_two(input):        \n",
    "    solutions =  advance_part_two(['start'], input)\n",
    "    return len(solutions)    \n",
    "\n",
    "calculate_part_two(parse(lines_example1))"
   ]
  },
  {
   "cell_type": "code",
   "execution_count": 64,
   "metadata": {},
   "outputs": [
    {
     "data": {
      "text/plain": [
       "103"
      ]
     },
     "execution_count": 64,
     "metadata": {},
     "output_type": "execute_result"
    }
   ],
   "source": [
    "calculate_part_two(parse(lines_example2))"
   ]
  },
  {
   "cell_type": "code",
   "execution_count": 65,
   "metadata": {},
   "outputs": [
    {
     "data": {
      "text/plain": [
       "3509"
      ]
     },
     "execution_count": 65,
     "metadata": {},
     "output_type": "execute_result"
    }
   ],
   "source": [
    "calculate_part_two(parse(lines_example3))"
   ]
  },
  {
   "cell_type": "code",
   "execution_count": 66,
   "metadata": {},
   "outputs": [
    {
     "data": {
      "text/plain": [
       "136767"
      ]
     },
     "execution_count": 66,
     "metadata": {},
     "output_type": "execute_result"
    }
   ],
   "source": [
    "calculate_part_two(parse(lines))"
   ]
  }
 ],
 "metadata": {
  "interpreter": {
   "hash": "fcd7bd45f351dd23b7a4d8eb4c9674b82763fce30f8b7d1ce24b9e6f66f71e8e"
  },
  "kernelspec": {
   "display_name": "Python 3.9.5 64-bit",
   "language": "python",
   "name": "python3"
  },
  "language_info": {
   "codemirror_mode": {
    "name": "ipython",
    "version": 3
   },
   "file_extension": ".py",
   "mimetype": "text/x-python",
   "name": "python",
   "nbconvert_exporter": "python",
   "pygments_lexer": "ipython3",
   "version": "3.9.5"
  },
  "orig_nbformat": 4
 },
 "nbformat": 4,
 "nbformat_minor": 2
}
