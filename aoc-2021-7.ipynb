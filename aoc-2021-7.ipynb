{
 "cells": [
  {
   "cell_type": "code",
   "execution_count": 1,
   "metadata": {},
   "outputs": [],
   "source": [
    "import pandas as pd\n",
    "import os\n",
    "import copy\n",
    "import unittest\n",
    "import string\n",
    "import re"
   ]
  },
  {
   "cell_type": "code",
   "execution_count": 2,
   "metadata": {},
   "outputs": [],
   "source": [
    "trainFile = \"C:/Code/advent/2021_day7_input.txt\"\n",
    "pwd = os.getcwd()\n",
    "os.chdir(os.path.dirname(trainFile))\n",
    "file1 = open(trainFile, 'r') \n",
    "lines = file1.read().splitlines()"
   ]
  },
  {
   "cell_type": "code",
   "execution_count": 3,
   "metadata": {},
   "outputs": [
    {
     "data": {
      "text/plain": [
       "['16,1,2,0,4,2,7,1,2,14']"
      ]
     },
     "execution_count": 3,
     "metadata": {},
     "output_type": "execute_result"
    }
   ],
   "source": [
    "exampleFile = \"C:/Code/advent/2021_day7_example.txt\"\n",
    "pwd = os.getcwd()\n",
    "os.chdir(os.path.dirname(exampleFile))\n",
    "file2 = open(exampleFile, 'r') \n",
    "exampleLines = file2.read().splitlines()\n",
    "exampleLines"
   ]
  },
  {
   "cell_type": "code",
   "execution_count": 4,
   "metadata": {},
   "outputs": [
    {
     "data": {
      "text/plain": [
       "[16, 1, 2, 0, 4, 2, 7, 1, 2, 14]"
      ]
     },
     "execution_count": 4,
     "metadata": {},
     "output_type": "execute_result"
    }
   ],
   "source": [
    "def parse_line(txt):\n",
    "    parts = txt.split(',')    \n",
    "    return list(map(int, parts))\n",
    "\n",
    "def parse(input):\n",
    "    return list(map(parse_line, input))[0]\n",
    "\n",
    "parse(exampleLines)"
   ]
  },
  {
   "cell_type": "code",
   "execution_count": 7,
   "metadata": {},
   "outputs": [
    {
     "data": {
      "text/plain": [
       "(2, 37)"
      ]
     },
     "execution_count": 7,
     "metadata": {},
     "output_type": "execute_result"
    }
   ],
   "source": [
    "def calculate_distance(input, position):\n",
    "    return sum(map(lambda x: abs(x - position), input))\n",
    "\n",
    "def solve_part_one(input):\n",
    "    best = None    \n",
    "    for pos in range(0, max(input)):\n",
    "        distance = calculate_distance(input, pos)\n",
    "        better = True\n",
    "        if best is not None:\n",
    "            if best[1] <= distance:\n",
    "                better = False\n",
    "        if better:\n",
    "            best = (pos, distance)\n",
    "    return best\n",
    "\n",
    "solve_part_one(parse(exampleLines))"
   ]
  },
  {
   "cell_type": "code",
   "execution_count": 13,
   "metadata": {},
   "outputs": [
    {
     "data": {
      "text/plain": [
       "(5, 168)"
      ]
     },
     "execution_count": 13,
     "metadata": {},
     "output_type": "execute_result"
    }
   ],
   "source": [
    "def distance_crab(f,t):\n",
    "    diff = abs(f - t)\n",
    "    if diff == 0:\n",
    "        return 0\n",
    "    else:\n",
    "        return (diff + 1) * diff // 2\n",
    "\n",
    "def calculate_distance_crab(input, position):\n",
    "    return sum(map(lambda x: distance_crab(x, position), input))\n",
    "\n",
    "def solve_part_two(input):\n",
    "    best = None    \n",
    "    for pos in range(0, max(input)):\n",
    "        distance = calculate_distance_crab(input, pos)\n",
    "        better = True\n",
    "        if best is not None:\n",
    "            if best[1] <= distance:\n",
    "                better = False\n",
    "        if better:\n",
    "            best = (pos, distance)\n",
    "    return best\n",
    "\n",
    "solve_part_two(parse(exampleLines))"
   ]
  },
  {
   "cell_type": "code",
   "execution_count": 14,
   "metadata": {},
   "outputs": [
    {
     "data": {
      "text/plain": [
       "(471, 95476244)"
      ]
     },
     "execution_count": 14,
     "metadata": {},
     "output_type": "execute_result"
    }
   ],
   "source": [
    "solve_part_two(parse(lines))"
   ]
  }
 ],
 "metadata": {
  "interpreter": {
   "hash": "fcd7bd45f351dd23b7a4d8eb4c9674b82763fce30f8b7d1ce24b9e6f66f71e8e"
  },
  "kernelspec": {
   "display_name": "Python 3.9.5 64-bit",
   "language": "python",
   "name": "python3"
  },
  "language_info": {
   "codemirror_mode": {
    "name": "ipython",
    "version": 3
   },
   "file_extension": ".py",
   "mimetype": "text/x-python",
   "name": "python",
   "nbconvert_exporter": "python",
   "pygments_lexer": "ipython3",
   "version": "3.9.5"
  },
  "orig_nbformat": 4
 },
 "nbformat": 4,
 "nbformat_minor": 2
}
