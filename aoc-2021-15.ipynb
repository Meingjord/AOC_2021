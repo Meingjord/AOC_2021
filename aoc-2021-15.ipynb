{
 "cells": [
  {
   "cell_type": "code",
   "execution_count": 4,
   "metadata": {},
   "outputs": [],
   "source": [
    "import pandas as pd\n",
    "import os\n",
    "import copy\n",
    "import unittest\n",
    "import string\n",
    "import re\n",
    "\n",
    "def read_file(trainFile):\n",
    "    pwd = os.getcwd()\n",
    "    os.chdir(os.path.dirname(trainFile))\n",
    "    file1 = open(trainFile, 'r') \n",
    "    lines = file1.read().splitlines()\n",
    "    return lines"
   ]
  },
  {
   "cell_type": "code",
   "execution_count": 5,
   "metadata": {},
   "outputs": [],
   "source": [
    "lines = read_file(\"C:/Code/advent/2021_day15_input.txt\")"
   ]
  },
  {
   "cell_type": "code",
   "execution_count": 6,
   "metadata": {},
   "outputs": [
    {
     "data": {
      "text/plain": [
       "['1163751742',\n",
       " '1381373672',\n",
       " '2136511328',\n",
       " '3694931569',\n",
       " '7463417111',\n",
       " '1319128137',\n",
       " '1359912421',\n",
       " '3125421639',\n",
       " '1293138521',\n",
       " '2311944581']"
      ]
     },
     "execution_count": 6,
     "metadata": {},
     "output_type": "execute_result"
    }
   ],
   "source": [
    "lines_example1 = read_file(\"C:/Code/advent/2021_day15_example1.txt\")\n",
    "lines_example1"
   ]
  },
  {
   "cell_type": "code",
   "execution_count": 7,
   "metadata": {},
   "outputs": [
    {
     "name": "stdout",
     "output_type": "stream",
     "text": [
      "1163751742\n",
      "1381373672\n",
      "2136511328\n",
      "3694931569\n",
      "7463417111\n",
      "1319128137\n",
      "1359912421\n",
      "3125421639\n",
      "1293138521\n",
      "2311944581\n",
      "\n"
     ]
    }
   ],
   "source": [
    "def parse(input):\n",
    "    result = {}\n",
    "    row = 0\n",
    "    for line in input:\n",
    "        col = 0\n",
    "        for c in line:\n",
    "            point = (col,row)\n",
    "            result[point] = int(c)\n",
    "            col += 1\n",
    "        row += 1\n",
    "    return result\n",
    "\n",
    "def print_field(input):\n",
    "    x_n = 0\n",
    "    y_n = 0\n",
    "    for point in input:\n",
    "        x_n = max(x_n, point[0])\n",
    "        y_n = max(y_n, point[1])\n",
    "    for y in range(y_n+1):\n",
    "        line = ''\n",
    "        for x in range(x_n+1):\n",
    "            line += str(input[(x,y)])\n",
    "        print(line)\n",
    "    print('')\n",
    "\n",
    "print_field(parse(lines_example1))"
   ]
  },
  {
   "cell_type": "code",
   "execution_count": 15,
   "metadata": {},
   "outputs": [
    {
     "data": {
      "text/plain": [
       "40"
      ]
     },
     "execution_count": 15,
     "metadata": {},
     "output_type": "execute_result"
    }
   ],
   "source": [
    "def calculate_part_one(input):\n",
    "    x_n = 0\n",
    "    y_n = 0\n",
    "    for point in input:\n",
    "        x_n = max(x_n, point[0])\n",
    "        y_n = max(y_n, point[1])\n",
    "    end = (x_n, y_n)\n",
    "\n",
    "    distance = {}\n",
    "    distance[(0,0)] = 0\n",
    "    explore = {}\n",
    "    n = 0\n",
    "    for point in distance:\n",
    "        for direction in [(1,0),(-1,0),(0,1),(0,-1)]:\n",
    "            neighbor = (point[0] + direction[0], point[1] + direction[1])\n",
    "            if neighbor in input and not neighbor in distance:\n",
    "                explore[neighbor] = 1\n",
    "\n",
    "    while len(explore) > 0 and n < len(input) and end not in distance:\n",
    "        n += 1\n",
    "        lowest_neighbor = None\n",
    "        lowest_risk = None\n",
    "        for point in explore:\n",
    "            for direction in [(1,0),(-1,0),(0,1),(0,-1)]:\n",
    "                origin = (point[0] + direction[0], point[1] + direction[1])\n",
    "                if origin in distance:\n",
    "                    risk = distance[origin] + input[point]\n",
    "                    if lowest_risk == None or risk < lowest_risk:\n",
    "                        lowest_risk = risk\n",
    "                        lowest_neighbor = point\n",
    "        distance[lowest_neighbor] = lowest_risk\n",
    "        explore.pop(lowest_neighbor)\n",
    "        for direction in [(1,0),(-1,0),(0,1),(0,-1)]:\n",
    "            neighbor = (lowest_neighbor[0] + direction[0], lowest_neighbor[1] + direction[1])\n",
    "            if neighbor in input and not neighbor in distance:\n",
    "                explore[neighbor] = 1\n",
    "\n",
    "    return distance[end]\n",
    "    \n",
    "calculate_part_one(parse(lines_example1))"
   ]
  },
  {
   "cell_type": "code",
   "execution_count": 16,
   "metadata": {},
   "outputs": [
    {
     "data": {
      "text/plain": [
       "581"
      ]
     },
     "execution_count": 16,
     "metadata": {},
     "output_type": "execute_result"
    }
   ],
   "source": [
    "calculate_part_one(parse(lines))"
   ]
  },
  {
   "cell_type": "code",
   "execution_count": 26,
   "metadata": {},
   "outputs": [
    {
     "name": "stdout",
     "output_type": "stream",
     "text": [
      "89123\n",
      "91234\n",
      "12345\n",
      "23456\n",
      "34567\n",
      "\n"
     ]
    }
   ],
   "source": [
    "def expand_map(input):\n",
    "    result = {}\n",
    "    x_n = 0\n",
    "    y_n = 0\n",
    "    for point in input:\n",
    "        x_n = max(x_n, point[0])\n",
    "        y_n = max(y_n, point[1])\n",
    "    x_n += 1\n",
    "    y_n += 1\n",
    "    for point in input:\n",
    "        value = input[point]\n",
    "        for i in range(5):\n",
    "            for j in range(5):\n",
    "                new_point = (point[0] + i * x_n, point[1] + j * x_n)\n",
    "                new_point_value = (value - 1 + i + j) % 9 + 1                \n",
    "                result[new_point] = new_point_value\n",
    "    return result\n",
    "\n",
    "tiny={}\n",
    "tiny[(0,0)] = 8\n",
    "print_field(expand_map(tiny))"
   ]
  },
  {
   "cell_type": "code",
   "execution_count": 27,
   "metadata": {},
   "outputs": [
    {
     "data": {
      "text/plain": [
       "315"
      ]
     },
     "execution_count": 27,
     "metadata": {},
     "output_type": "execute_result"
    }
   ],
   "source": [
    "def calculate_part_two(input):\n",
    "    big_input = expand_map(input)\n",
    "    return calculate_part_one(big_input)\n",
    "    \n",
    "calculate_part_two(parse(lines_example1))"
   ]
  },
  {
   "cell_type": "code",
   "execution_count": 28,
   "metadata": {},
   "outputs": [
    {
     "data": {
      "text/plain": [
       "2916"
      ]
     },
     "execution_count": 28,
     "metadata": {},
     "output_type": "execute_result"
    }
   ],
   "source": [
    "calculate_part_two(parse(lines))"
   ]
  }
 ],
 "metadata": {
  "interpreter": {
   "hash": "fcd7bd45f351dd23b7a4d8eb4c9674b82763fce30f8b7d1ce24b9e6f66f71e8e"
  },
  "kernelspec": {
   "display_name": "Python 3.9.5 64-bit",
   "language": "python",
   "name": "python3"
  },
  "language_info": {
   "codemirror_mode": {
    "name": "ipython",
    "version": 3
   },
   "file_extension": ".py",
   "mimetype": "text/x-python",
   "name": "python",
   "nbconvert_exporter": "python",
   "pygments_lexer": "ipython3",
   "version": "3.9.5"
  },
  "orig_nbformat": 4
 },
 "nbformat": 4,
 "nbformat_minor": 2
}
