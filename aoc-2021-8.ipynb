{
 "cells": [
  {
   "cell_type": "code",
   "execution_count": 2,
   "metadata": {},
   "outputs": [],
   "source": [
    "import pandas as pd\n",
    "import os\n",
    "import copy\n",
    "import unittest\n",
    "import string\n",
    "import re"
   ]
  },
  {
   "cell_type": "code",
   "execution_count": 3,
   "metadata": {},
   "outputs": [],
   "source": [
    "trainFile = \"C:/Code/advent/2021_day8_input.txt\"\n",
    "pwd = os.getcwd()\n",
    "os.chdir(os.path.dirname(trainFile))\n",
    "file1 = open(trainFile, 'r') \n",
    "lines = file1.read().splitlines()"
   ]
  },
  {
   "cell_type": "code",
   "execution_count": 4,
   "metadata": {},
   "outputs": [
    {
     "data": {
      "text/plain": [
       "['be cfbegad cbdgef fgaecd cgeb fdcge agebfd fecdb fabcd edb | fdgacbe cefdb cefbgd gcbe',\n",
       " 'edbfga begcd cbg gc gcadebf fbgde acbgfd abcde gfcbed gfec | fcgedb cgb dgebacf gc',\n",
       " 'fgaebd cg bdaec gdafb agbcfd gdcbef bgcad gfac gcb cdgabef | cg cg fdcagb cbg',\n",
       " 'fbegcd cbd adcefb dageb afcb bc aefdc ecdab fgdeca fcdbega | efabcd cedba gadfec cb',\n",
       " 'aecbfdg fbg gf bafeg dbefa fcge gcbea fcaegb dgceab fcbdga | gecf egdcabf bgf bfgea',\n",
       " 'fgeab ca afcebg bdacfeg cfaedg gcfdb baec bfadeg bafgc acf | gebdcfa ecba ca fadegcb',\n",
       " 'dbcfg fgd bdegcaf fgec aegbdf ecdfab fbedc dacgb gdcebf gf | cefg dcbef fcge gbcadfe',\n",
       " 'bdfegc cbegaf gecbf dfcage bdacg ed bedf ced adcbefg gebcd | ed bcgafe cdgba cbgef',\n",
       " 'egadfb cdbfeg cegd fecab cgb gbdefca cg fgcdab egfdb bfceg | gbdfcae bgc cg cgb',\n",
       " 'gcafb gcf dcaebfg ecagb gf abcdeg gaef cafbge fdbac fegbdc | fgae cfgab fg bagce']"
      ]
     },
     "execution_count": 4,
     "metadata": {},
     "output_type": "execute_result"
    }
   ],
   "source": [
    "exampleFile = \"C:/Code/advent/2021_day8_example.txt\"\n",
    "pwd = os.getcwd()\n",
    "os.chdir(os.path.dirname(exampleFile))\n",
    "file2 = open(exampleFile, 'r') \n",
    "exampleLines = file2.read().splitlines()\n",
    "exampleLines"
   ]
  },
  {
   "cell_type": "code",
   "execution_count": 5,
   "metadata": {},
   "outputs": [
    {
     "data": {
      "text/plain": [
       "[[['be',\n",
       "   'cfbegad',\n",
       "   'cbdgef',\n",
       "   'fgaecd',\n",
       "   'cgeb',\n",
       "   'fdcge',\n",
       "   'agebfd',\n",
       "   'fecdb',\n",
       "   'fabcd',\n",
       "   'edb'],\n",
       "  ['fdgacbe', 'cefdb', 'cefbgd', 'gcbe']],\n",
       " [['edbfga',\n",
       "   'begcd',\n",
       "   'cbg',\n",
       "   'gc',\n",
       "   'gcadebf',\n",
       "   'fbgde',\n",
       "   'acbgfd',\n",
       "   'abcde',\n",
       "   'gfcbed',\n",
       "   'gfec'],\n",
       "  ['fcgedb', 'cgb', 'dgebacf', 'gc']],\n",
       " [['fgaebd',\n",
       "   'cg',\n",
       "   'bdaec',\n",
       "   'gdafb',\n",
       "   'agbcfd',\n",
       "   'gdcbef',\n",
       "   'bgcad',\n",
       "   'gfac',\n",
       "   'gcb',\n",
       "   'cdgabef'],\n",
       "  ['cg', 'cg', 'fdcagb', 'cbg']],\n",
       " [['fbegcd',\n",
       "   'cbd',\n",
       "   'adcefb',\n",
       "   'dageb',\n",
       "   'afcb',\n",
       "   'bc',\n",
       "   'aefdc',\n",
       "   'ecdab',\n",
       "   'fgdeca',\n",
       "   'fcdbega'],\n",
       "  ['efabcd', 'cedba', 'gadfec', 'cb']],\n",
       " [['aecbfdg',\n",
       "   'fbg',\n",
       "   'gf',\n",
       "   'bafeg',\n",
       "   'dbefa',\n",
       "   'fcge',\n",
       "   'gcbea',\n",
       "   'fcaegb',\n",
       "   'dgceab',\n",
       "   'fcbdga'],\n",
       "  ['gecf', 'egdcabf', 'bgf', 'bfgea']],\n",
       " [['fgeab',\n",
       "   'ca',\n",
       "   'afcebg',\n",
       "   'bdacfeg',\n",
       "   'cfaedg',\n",
       "   'gcfdb',\n",
       "   'baec',\n",
       "   'bfadeg',\n",
       "   'bafgc',\n",
       "   'acf'],\n",
       "  ['gebdcfa', 'ecba', 'ca', 'fadegcb']],\n",
       " [['dbcfg',\n",
       "   'fgd',\n",
       "   'bdegcaf',\n",
       "   'fgec',\n",
       "   'aegbdf',\n",
       "   'ecdfab',\n",
       "   'fbedc',\n",
       "   'dacgb',\n",
       "   'gdcebf',\n",
       "   'gf'],\n",
       "  ['cefg', 'dcbef', 'fcge', 'gbcadfe']],\n",
       " [['bdfegc',\n",
       "   'cbegaf',\n",
       "   'gecbf',\n",
       "   'dfcage',\n",
       "   'bdacg',\n",
       "   'ed',\n",
       "   'bedf',\n",
       "   'ced',\n",
       "   'adcbefg',\n",
       "   'gebcd'],\n",
       "  ['ed', 'bcgafe', 'cdgba', 'cbgef']],\n",
       " [['egadfb',\n",
       "   'cdbfeg',\n",
       "   'cegd',\n",
       "   'fecab',\n",
       "   'cgb',\n",
       "   'gbdefca',\n",
       "   'cg',\n",
       "   'fgcdab',\n",
       "   'egfdb',\n",
       "   'bfceg'],\n",
       "  ['gbdfcae', 'bgc', 'cg', 'cgb']],\n",
       " [['gcafb',\n",
       "   'gcf',\n",
       "   'dcaebfg',\n",
       "   'ecagb',\n",
       "   'gf',\n",
       "   'abcdeg',\n",
       "   'gaef',\n",
       "   'cafbge',\n",
       "   'fdbac',\n",
       "   'fegbdc'],\n",
       "  ['fgae', 'cfgab', 'fg', 'bagce']]]"
      ]
     },
     "execution_count": 5,
     "metadata": {},
     "output_type": "execute_result"
    }
   ],
   "source": [
    "def parse_line(txt):\n",
    "    parts = txt.split(' | ')\n",
    "    first = parts[0].split(' ')\n",
    "    second = parts[1].split(' ')\n",
    "    return [first, second]\n",
    "\n",
    "def parse(input):\n",
    "    return list(map(parse_line, input))\n",
    "\n",
    "parse(exampleLines)"
   ]
  },
  {
   "cell_type": "code",
   "execution_count": 6,
   "metadata": {},
   "outputs": [
    {
     "data": {
      "text/plain": [
       "26"
      ]
     },
     "execution_count": 6,
     "metadata": {},
     "output_type": "execute_result"
    }
   ],
   "source": [
    "def is_simple(txt):\n",
    "    return len(txt) < 5 or len(txt) == 7\n",
    "\n",
    "def count_simple(input):\n",
    "    return sum(1 if is_simple(x) else 0 for x in input)\n",
    "\n",
    "def solve_part_one(input):\n",
    "    return sum(count_simple(x[1]) for x in input)\n",
    "\n",
    "solve_part_one(parse(exampleLines))"
   ]
  },
  {
   "cell_type": "code",
   "execution_count": 7,
   "metadata": {},
   "outputs": [
    {
     "data": {
      "text/plain": [
       "493"
      ]
     },
     "execution_count": 7,
     "metadata": {},
     "output_type": "execute_result"
    }
   ],
   "source": [
    "solve_part_one(parse(lines))"
   ]
  },
  {
   "cell_type": "markdown",
   "metadata": {},
   "source": [
    "a : 8\n",
    "b : 6\n",
    "c : 8\n",
    "d : 7\n",
    "e : 4\n",
    "f : 9\n",
    "g : 7\n",
    "\n",
    "counting 9 occurences you know f\n",
    "with 1 you know c\n",
    "with 7 you know a\n",
    "counting 6 occurences you know b\n",
    "with 4 you know d\n",
    "counting 4 occurences you know e\n",
    "last one is g"
   ]
  },
  {
   "cell_type": "code",
   "execution_count": 18,
   "metadata": {},
   "outputs": [
    {
     "data": {
      "text/plain": [
       "{'a': 'e', 'e': 'f', 'g': 'b', 'b': 'c', 'd': 'a', 'c': 'd', 'f': 'g'}"
      ]
     },
     "execution_count": 18,
     "metadata": {},
     "output_type": "execute_result"
    }
   ],
   "source": [
    "def string_without(input, found):\n",
    "    result = input\n",
    "    for c in found:\n",
    "        result = result.replace(c,'')\n",
    "    return result\n",
    "\n",
    "def find_mapping(input):\n",
    "    characters = ['a','b','c','d','e','f','g']\n",
    "    positions = {}\n",
    "    back = {}\n",
    "    for c in characters:\n",
    "        occurences = sum(1 if c in word else 0 for word in input)\n",
    "        if occurences == 9:\n",
    "            positions[c] = 'f'\n",
    "            back['f'] = c\n",
    "        if occurences == 6:\n",
    "            positions[c] = 'b'\n",
    "            back['b'] = c\n",
    "        if occurences == 4:\n",
    "            positions[c] = 'e'\n",
    "            back['e'] = c\n",
    "    one = next(x for x in input if len(x) == 2)\n",
    "    seven = next(x for x in input if len(x) == 3)\n",
    "    four = next(x for x in input if len(x) == 4)\n",
    "    eight = next(x for x in input if len(x) == 7)\n",
    "    #print(one, seven, four, eight)\n",
    "    back['c'] = string_without(one,positions.keys())\n",
    "    positions[back['c']] = 'c'\n",
    "    back['a'] = string_without(seven,positions.keys())    \n",
    "    positions[back['a']] = 'a'\n",
    "    back['d'] = string_without(four,positions.keys())\n",
    "    positions[back['d']] = 'd'\n",
    "    back['g'] = string_without(eight,positions.keys())\n",
    "    positions[back['g']] = 'g'\n",
    "    #print(positions)\n",
    "    #print(back)    \n",
    "    return positions\n",
    "\n",
    "find_mapping(parse(exampleLines)[0][0])"
   ]
  },
  {
   "cell_type": "code",
   "execution_count": 43,
   "metadata": {},
   "outputs": [
    {
     "name": "stdout",
     "output_type": "stream",
     "text": [
      "fdgacbe 8\n",
      "cefdb 3\n",
      "cefbgd 9\n",
      "gcbe 4\n",
      "8394\n"
     ]
    }
   ],
   "source": [
    "def find_digit(input, mapping):\n",
    "    mapped = {}\n",
    "    for c in input:\n",
    "        mapped[mapping[c]] = 1\n",
    "\n",
    "    if mapped == {'c': 1, 'f': 1}:\n",
    "        return 1\n",
    "    elif mapped == {'a': 1, 'c': 1, 'd': 1, 'e': 1, 'g': 1}:\n",
    "        return 2\n",
    "    elif mapped == {'a': 1, 'c': 1, 'd': 1, 'f': 1, 'g': 1}:\n",
    "        return 3\n",
    "    elif mapped == {'b': 1, 'c': 1, 'd': 1, 'f': 1}:\n",
    "        return 4\n",
    "    elif mapped == {'a': 1, 'b': 1, 'd': 1, 'f': 1, 'g': 1}:\n",
    "        return 5\n",
    "    elif mapped == {'a': 1, 'b': 1, 'd': 1, 'e': 1, 'f': 1, 'g': 1}:\n",
    "        return 6\n",
    "    elif mapped == {'a': 1, 'c': 1, 'f': 1}:\n",
    "        return 7\n",
    "    elif mapped == {'a': 1, 'b': 1, 'c': 1, 'd': 1, 'e': 1, 'f': 1, 'g': 1}:\n",
    "        return 8\n",
    "    elif mapped == {'a': 1, 'b': 1, 'c': 1, 'd': 1, 'f': 1, 'g': 1}:\n",
    "        return 9\n",
    "    elif mapped == {'a': 1, 'b': 1, 'c': 1, 'e': 1, 'f': 1, 'g': 1}:\n",
    "        return 0                \n",
    "    return None\n",
    "\n",
    "def find_number(input, mapping):\n",
    "    result = 0\n",
    "    for code in input:\n",
    "        result += find_digit(code, mapping)\n",
    "        result *= 10\n",
    "    result //= 10\n",
    "    return result\n",
    "\n",
    "def test_example_digits(input):\n",
    "    mapping = find_mapping(input[0])\n",
    "    for code in input[1]:\n",
    "        print(code, find_digit(code, mapping))\n",
    "\n",
    "    print(find_number(input[1], mapping))\n",
    "\n",
    "test_example_digits(parse(exampleLines)[0])"
   ]
  },
  {
   "cell_type": "code",
   "execution_count": 44,
   "metadata": {},
   "outputs": [
    {
     "name": "stdout",
     "output_type": "stream",
     "text": [
      "cdfeb 5\n",
      "fcadb 3\n",
      "cdfeb 5\n",
      "cdbaf 3\n",
      "5353\n"
     ]
    }
   ],
   "source": [
    "test_example_digits([['acedgfb','cdfbe','gcdfa','fbcad','dab','cefabd','cdfgeb','eafb','cagedb','ab'],['cdfeb','fcadb','cdfeb','cdbaf']])"
   ]
  },
  {
   "cell_type": "code",
   "execution_count": 45,
   "metadata": {},
   "outputs": [
    {
     "data": {
      "text/plain": [
       "61229"
      ]
     },
     "execution_count": 45,
     "metadata": {},
     "output_type": "execute_result"
    }
   ],
   "source": [
    "def solve_output(input):\n",
    "    mapping = find_mapping(input[0])\n",
    "    return find_number(input[1], mapping)\n",
    "\n",
    "def solve_part_two(input):\n",
    "    return sum(solve_output(x) for x in input)\n",
    "\n",
    "solve_part_two(parse(exampleLines))"
   ]
  },
  {
   "cell_type": "code",
   "execution_count": 46,
   "metadata": {},
   "outputs": [
    {
     "data": {
      "text/plain": [
       "1010460"
      ]
     },
     "execution_count": 46,
     "metadata": {},
     "output_type": "execute_result"
    }
   ],
   "source": [
    "solve_part_two(parse(lines))"
   ]
  }
 ],
 "metadata": {
  "interpreter": {
   "hash": "fcd7bd45f351dd23b7a4d8eb4c9674b82763fce30f8b7d1ce24b9e6f66f71e8e"
  },
  "kernelspec": {
   "display_name": "Python 3.9.5 64-bit",
   "language": "python",
   "name": "python3"
  },
  "language_info": {
   "codemirror_mode": {
    "name": "ipython",
    "version": 3
   },
   "file_extension": ".py",
   "mimetype": "text/x-python",
   "name": "python",
   "nbconvert_exporter": "python",
   "pygments_lexer": "ipython3",
   "version": "3.9.5"
  },
  "orig_nbformat": 4
 },
 "nbformat": 4,
 "nbformat_minor": 2
}
