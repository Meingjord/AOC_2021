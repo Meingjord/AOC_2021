{
 "cells": [
  {
   "cell_type": "code",
   "execution_count": null,
   "metadata": {},
   "outputs": [],
   "source": [
    "import pandas as pd\n",
    "import os\n",
    "import copy\n",
    "import unittest\n",
    "import string\n",
    "import re\n",
    "\n",
    "def read_file(trainFile):\n",
    "    pwd = os.getcwd()\n",
    "    os.chdir(os.path.dirname(trainFile))\n",
    "    file1 = open(trainFile, 'r') \n",
    "    lines = file1.read().splitlines()\n",
    "    return lines"
   ]
  },
  {
   "cell_type": "code",
   "execution_count": null,
   "metadata": {},
   "outputs": [],
   "source": [
    "lines = read_file(\"C:/Code/advent/2021_day17_input.txt\")"
   ]
  },
  {
   "cell_type": "code",
   "execution_count": null,
   "metadata": {},
   "outputs": [],
   "source": [
    "lines_example1 = read_file(\"C:/Code/advent/2021_day17_example1.txt\")\n",
    "lines_example1"
   ]
  },
  {
   "cell_type": "code",
   "execution_count": null,
   "metadata": {},
   "outputs": [],
   "source": [
    "def parse(input):\n",
    "    parts = input[0].replace('target area: x=','').replace('..',',').replace(' y=','').split(',')\n",
    "    result = list(map(int, parts))\n",
    "    return result\n",
    "\n",
    "parse(lines_example1)"
   ]
  },
  {
   "cell_type": "code",
   "execution_count": 25,
   "metadata": {},
   "outputs": [
    {
     "name": "stdout",
     "output_type": "stream",
     "text": [
      "[20, 30, -10, -5]\n"
     ]
    },
    {
     "data": {
      "text/plain": [
       "(45, 112)"
      ]
     },
     "execution_count": 25,
     "metadata": {},
     "output_type": "execute_result"
    }
   ],
   "source": [
    "def create_trajectory(input, velocity_start):\n",
    "    low_x = input[0]\n",
    "    high_x = input[1]\n",
    "    low_y = input[2]\n",
    "    high_y = input[3]\n",
    "    v_x, v_y = velocity_start\n",
    "    steps = []\n",
    "    x = 0\n",
    "    y = 0\n",
    "    top = 0\n",
    "    while y >= low_y:                \n",
    "        x += v_x\n",
    "        y += v_y\n",
    "        if y > top:\n",
    "            top = y\n",
    "        v_y -= 1\n",
    "        v_x = max(v_x - 1, 0)\n",
    "        if x >= low_x and x <= high_x and y >= low_y and y <= high_y:\n",
    "            return top\n",
    "    return None\n",
    "\n",
    "def calculate_part_one(input):\n",
    "    print(input)\n",
    "    low_x = input[0]\n",
    "    high_x = input[1]\n",
    "    low_y = input[2]\n",
    "    high_y = input[3]\n",
    "    top = 0\n",
    "    n = 0\n",
    "    for x in range(high_x+1):\n",
    "        for y in range(low_y,1000):\n",
    "            result = create_trajectory(input, (x,y))\n",
    "            if result is not None:\n",
    "                n += 1\n",
    "                #print((x,y),top)\n",
    "                if result > top:\n",
    "                    top = result                    \n",
    "\n",
    "    return (top, n)\n",
    "    \n",
    "calculate_part_one(parse(lines_example1))"
   ]
  },
  {
   "cell_type": "code",
   "execution_count": 26,
   "metadata": {},
   "outputs": [
    {
     "name": "stdout",
     "output_type": "stream",
     "text": [
      "[14, 50, -267, -225]\n"
     ]
    },
    {
     "data": {
      "text/plain": [
       "(35511, 3282)"
      ]
     },
     "execution_count": 26,
     "metadata": {},
     "output_type": "execute_result"
    }
   ],
   "source": [
    "# too low 3828\n",
    "\n",
    "calculate_part_one(parse(lines))"
   ]
  },
  {
   "cell_type": "code",
   "execution_count": null,
   "metadata": {},
   "outputs": [],
   "source": [
    "calculate_part_two(parse(lines))"
   ]
  }
 ],
 "metadata": {
  "interpreter": {
   "hash": "fcd7bd45f351dd23b7a4d8eb4c9674b82763fce30f8b7d1ce24b9e6f66f71e8e"
  },
  "kernelspec": {
   "display_name": "Python 3.9.5 64-bit",
   "language": "python",
   "name": "python3"
  },
  "language_info": {
   "codemirror_mode": {
    "name": "ipython",
    "version": 3
   },
   "file_extension": ".py",
   "mimetype": "text/x-python",
   "name": "python",
   "nbconvert_exporter": "python",
   "pygments_lexer": "ipython3",
   "version": "3.9.5"
  },
  "orig_nbformat": 4
 },
 "nbformat": 4,
 "nbformat_minor": 2
}
