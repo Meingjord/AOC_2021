{
 "cells": [
  {
   "cell_type": "code",
   "execution_count": 35,
   "metadata": {},
   "outputs": [],
   "source": [
    "import pandas as pd\n",
    "import os\n",
    "import copy\n",
    "import unittest\n",
    "import string\n",
    "import re\n",
    "\n",
    "def read_file(trainFile):\n",
    "    pwd = os.getcwd()\n",
    "    os.chdir(os.path.dirname(trainFile))\n",
    "    file1 = open(trainFile, 'r') \n",
    "    lines = file1.read().splitlines()\n",
    "    return lines"
   ]
  },
  {
   "cell_type": "code",
   "execution_count": 36,
   "metadata": {},
   "outputs": [],
   "source": [
    "lines = read_file(\"C:/Code/advent/2021_day21_input.txt\")"
   ]
  },
  {
   "cell_type": "code",
   "execution_count": 37,
   "metadata": {},
   "outputs": [
    {
     "data": {
      "text/plain": [
       "['Player 1 starting position: 4', 'Player 2 starting position: 8']"
      ]
     },
     "execution_count": 37,
     "metadata": {},
     "output_type": "execute_result"
    }
   ],
   "source": [
    "lines_example1 = read_file(\"C:/Code/advent/2021_day21_example1.txt\")\n",
    "lines_example1"
   ]
  },
  {
   "cell_type": "code",
   "execution_count": 38,
   "metadata": {},
   "outputs": [
    {
     "data": {
      "text/plain": [
       "[4, 8]"
      ]
     },
     "execution_count": 38,
     "metadata": {},
     "output_type": "execute_result"
    }
   ],
   "source": [
    "def parse(input):\n",
    "    result = []\n",
    "    for line in input:\n",
    "        value = int(line.split(': ')[1])\n",
    "        result.append(value)\n",
    "    return result\n",
    "\n",
    "parse(lines_example1)"
   ]
  },
  {
   "cell_type": "code",
   "execution_count": 39,
   "metadata": {},
   "outputs": [
    {
     "data": {
      "text/plain": [
       "739785"
      ]
     },
     "execution_count": 39,
     "metadata": {},
     "output_type": "execute_result"
    }
   ],
   "source": [
    "def calculate_next_simple(start, roll):\n",
    "    return (start + roll - 1) % 10 + 1\n",
    "\n",
    "def calculate_next(start,outcomes):\n",
    "    return calculate_next_simple(start, sum(outcomes))\n",
    "\n",
    "def advance(current, player, outcomes):\n",
    "    result = [current[0],current[1]]    \n",
    "    result[player] = calculate_next(current[player],outcomes)\n",
    "    return result\n",
    "\n",
    "def roll(first):\n",
    "    result = []\n",
    "    for i in range(3):\n",
    "        result.append((first + i- 1)%100 + 1)\n",
    "    return result    \n",
    "\n",
    "def calculate_part_one(input):\n",
    "    current = [input[0],input[1]]\n",
    "    next_roll = 1\n",
    "    last_roll = 1\n",
    "    finished = False\n",
    "    active = 0\n",
    "    total_score = [0,0]\n",
    "    while not finished:\n",
    "        outcomes = roll(next_roll)\n",
    "        last_roll = next_roll + 2\n",
    "        next_roll += 3\n",
    "        current = advance(current, active, outcomes)\n",
    "        total_score[active] += current[active]\n",
    "        #print(active+1, outcomes, current[active], total_score[active])\n",
    "        if max(total_score) >= 1000:\n",
    "            finished = True\n",
    "        active = 1-active\n",
    "\n",
    "    return min(total_score) * last_roll\n",
    "    \n",
    "calculate_part_one(parse(lines_example1))"
   ]
  },
  {
   "cell_type": "code",
   "execution_count": 40,
   "metadata": {},
   "outputs": [
    {
     "data": {
      "text/plain": [
       "913560"
      ]
     },
     "execution_count": 40,
     "metadata": {},
     "output_type": "execute_result"
    }
   ],
   "source": [
    "calculate_part_one(parse(lines))"
   ]
  },
  {
   "cell_type": "code",
   "execution_count": 41,
   "metadata": {},
   "outputs": [
    {
     "name": "stdout",
     "output_type": "stream",
     "text": [
      "{1: 1, 2: 1, 3: 1}\n",
      "{2: 1, 3: 2, 4: 3, 5: 2, 6: 1}\n",
      "{3: 1, 4: 3, 5: 6, 6: 7, 7: 6, 8: 3, 9: 1}\n"
     ]
    }
   ],
   "source": [
    "def generate_dirac_outcomes(depth):\n",
    "    if depth > 1:\n",
    "        start = generate_dirac_outcomes(depth-1)\n",
    "    else:\n",
    "        start = {}\n",
    "        start[0] = 1\n",
    "    result = {}\n",
    "    for i in range(1,4):\n",
    "        for v in start:\n",
    "            result[i+v] = result.get(i+v,0) + start[v]\n",
    "    return result\n",
    "\n",
    "print(generate_dirac_outcomes(1))\n",
    "print(generate_dirac_outcomes(2))\n",
    "print(generate_dirac_outcomes(3))\n",
    "dirac_outcomes = generate_dirac_outcomes(3)"
   ]
  },
  {
   "cell_type": "code",
   "execution_count": 45,
   "metadata": {},
   "outputs": [],
   "source": [
    "def find_lowest_key(input, hint):\n",
    "    lowest = 1000\n",
    "    lowest_key = None\n",
    "    for i in input:\n",
    "        score = i[2]\n",
    "        value = min(score)\n",
    "        if value < lowest:\n",
    "            lowest_key = i\n",
    "            lowest = value\n",
    "        if value == hint:\n",
    "            return lowest_key\n",
    "    return lowest_key\n",
    "\n",
    "def generate_next_state_with_outcome(state, roll):    \n",
    "    (position, active, score) = state\n",
    "    new_active = 1 - active\n",
    "    result = None\n",
    "    new_position = calculate_next_simple(position[active], roll)\n",
    "    if active == 0:\n",
    "        result = ((new_position, position[1]),new_active,(score[0]+new_position,score[1]))\n",
    "    else:\n",
    "        result = ((position[0],new_position),new_active,(score[0],score[1]+new_position))\n",
    "\n",
    "    #print('generate', state, roll , '---->', result)\n",
    "    return result\n",
    "\n",
    "def generate_next(state, multiplier):\n",
    "    result = {}\n",
    "    for outcome in dirac_outcomes:\n",
    "        outcome_count = dirac_outcomes[outcome]\n",
    "        key = generate_next_state_with_outcome(state, outcome)\n",
    "        result[key] = outcome_count * multiplier\n",
    "    return result\n",
    "\n",
    "def calculate_part_two(input):\n",
    "    current = ((input[0],input[1]), 0, (0,0))\n",
    "    unexplored = {}\n",
    "    unexplored[current] = 1\n",
    "    wins = [0,0]\n",
    "    max_iterations = 200000\n",
    "    n = 0\n",
    "    lowest_print = 0\n",
    "    while len(unexplored) > 0 and max_iterations > n:\n",
    "        n += 1\n",
    "        #print('step', n, unexplored)\n",
    "        lowest_key = find_lowest_key(unexplored, lowest_print)\n",
    "        lowest_value = unexplored[lowest_key]\n",
    "        if lowest_print < min(lowest_key[2]):            \n",
    "            lowest_print = min(lowest_key[2])\n",
    "            print(lowest_print, n, wins, lowest_key)\n",
    "        unexplored.pop(lowest_key)\n",
    "        copies = generate_next(lowest_key, lowest_value)\n",
    "        for c in copies:\n",
    "            count = copies[c]\n",
    "            score = c[2]\n",
    "            if score[0] >= 21:\n",
    "                wins[0] = wins[0] + count\n",
    "            elif score[1] >= 21:\n",
    "                wins[1] = wins[1] + count\n",
    "            else:\n",
    "                unexplored[c] = unexplored.get(c,0) + count\n",
    "        #print(unexplored)\n",
    "\n",
    "    print(unexplored)\n",
    "    print(len(unexplored), n, wins)\n",
    "    return None"
   ]
  },
  {
   "cell_type": "code",
   "execution_count": 46,
   "metadata": {},
   "outputs": [
    {
     "name": "stdout",
     "output_type": "stream",
     "text": [
      "1 9 [0, 0] ((7, 1), 0, (7, 1))\n",
      "2 71 [0, 0] ((7, 2), 0, (7, 2))\n",
      "3 131 [0, 0] ((7, 3), 0, (7, 3))\n",
      "4 401 [13824, 0] ((7, 4), 0, (7, 4))\n",
      "5 662 [96768, 0] ((7, 5), 0, (7, 5))\n",
      "6 1279 [322560, 0] ((7, 6), 0, (7, 6))\n",
      "7 2074 [3621192, 64010] ((7, 7), 0, (7, 7))\n",
      "8 3762 [15921768, 318320] ((10, 7), 0, (17, 8))\n",
      "9 5972 [123724286, 9250826] ((10, 8), 0, (17, 9))\n",
      "10 8362 [855955300, 59996552] ((10, 9), 0, (17, 10))\n",
      "11 11149 [4324364844, 274487493] ((10, 10), 0, (17, 11))\n",
      "12 14047 [19970131934, 8272987017] ((10, 10), 0, (17, 12))\n",
      "13 16868 [90675799793, 77832313849] ((10, 10), 0, (17, 13))\n",
      "14 19580 [426273358701, 459609726791] ((10, 10), 0, (17, 14))\n",
      "15 22001 [1818828593029, 1950263772764] ((10, 10), 0, (17, 15))\n",
      "16 24113 [6737120603807, 6622801365133] ((10, 10), 0, (17, 16))\n",
      "17 25896 [21401244356923, 18967663817339] ((10, 10), 0, (17, 17))\n",
      "18 27289 [59288284745124, 48540600335876] ((3, 10), 0, (20, 18))\n",
      "19 28289 [144280143657819, 113356675653499] ((8, 10), 0, (19, 19))\n",
      "20 28889 [300506516528403, 232388680680618] ((9, 10), 0, (20, 20))\n",
      "{}\n",
      "0 29088 [444356092776315, 341960390180808]\n"
     ]
    }
   ],
   "source": [
    "calculate_part_two(parse(lines_example1))"
   ]
  },
  {
   "cell_type": "code",
   "execution_count": 44,
   "metadata": {},
   "outputs": [
    {
     "name": "stdout",
     "output_type": "stream",
     "text": [
      "1 9 [0, 0] ((1, 4), 0, (1, 4))\n",
      "2 16 [0, 0] ((2, 4), 0, (2, 4))\n",
      "3 23 [0, 0] ((3, 4), 0, (3, 4))\n",
      "4 86 [0, 0] ((7, 4), 0, (7, 4))\n",
      "5 193 [0, 0] ((7, 5), 0, (7, 5))\n",
      "6 508 [27648, 0] ((7, 6), 0, (7, 6))\n",
      "7 1061 [138240, 146039] ((7, 7), 0, (7, 7))\n",
      "8 2165 [1140306, 726248] ((8, 8), 0, (8, 8))\n",
      "9 3568 [6712464, 11574485] ((9, 9), 0, (9, 9))\n",
      "10 5267 [26078552, 70163198] ((10, 10), 0, (10, 10))\n",
      "11 7397 [199491102, 292541795] ((8, 7), 1, (11, 11))\n",
      "12 9814 [2089675810, 2407600424] ((9, 8), 1, (12, 12))\n",
      "13 12374 [16874108605, 17818903873] ((10, 9), 1, (13, 13))\n",
      "14 14942 [111068414390, 104726270807] ((10, 10), 0, (17, 14))\n",
      "15 17356 [515285652886, 469921641328] ((10, 10), 0, (17, 15))\n",
      "16 19502 [1805195217051, 1718786739595] ((10, 10), 0, (17, 16))\n",
      "17 21298 [5190041187595, 5321046884108] ((10, 10), 0, (17, 17))\n",
      "18 22697 [13334784580547, 14502276074914] ((10, 8), 1, (18, 18))\n",
      "19 23697 [31296949047932, 35344663629407] ((10, 9), 1, (19, 19))\n",
      "20 24297 [64481156330016, 74361222990436] ((10, 7), 1, (20, 20))\n",
      "{}\n",
      "0 24496 [95150439448698, 110271560863819]\n"
     ]
    }
   ],
   "source": [
    "calculate_part_two(parse(lines))"
   ]
  }
 ],
 "metadata": {
  "interpreter": {
   "hash": "fcd7bd45f351dd23b7a4d8eb4c9674b82763fce30f8b7d1ce24b9e6f66f71e8e"
  },
  "kernelspec": {
   "display_name": "Python 3.9.5 64-bit",
   "language": "python",
   "name": "python3"
  },
  "language_info": {
   "codemirror_mode": {
    "name": "ipython",
    "version": 3
   },
   "file_extension": ".py",
   "mimetype": "text/x-python",
   "name": "python",
   "nbconvert_exporter": "python",
   "pygments_lexer": "ipython3",
   "version": "3.9.5"
  },
  "orig_nbformat": 4
 },
 "nbformat": 4,
 "nbformat_minor": 2
}
