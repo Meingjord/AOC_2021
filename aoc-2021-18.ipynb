{
 "cells": [
  {
   "cell_type": "code",
   "execution_count": 32,
   "metadata": {},
   "outputs": [],
   "source": [
    "import pandas as pd\n",
    "import os\n",
    "import copy\n",
    "import unittest\n",
    "import string\n",
    "import re\n",
    "import ast\n",
    "\n",
    "def read_file(trainFile):\n",
    "    pwd = os.getcwd()\n",
    "    os.chdir(os.path.dirname(trainFile))\n",
    "    file1 = open(trainFile, 'r') \n",
    "    lines = file1.read().splitlines()\n",
    "    return lines"
   ]
  },
  {
   "cell_type": "code",
   "execution_count": 33,
   "metadata": {},
   "outputs": [],
   "source": [
    "lines = read_file(\"C:/Code/advent/2021_day18_input.txt\")"
   ]
  },
  {
   "cell_type": "code",
   "execution_count": 34,
   "metadata": {},
   "outputs": [
    {
     "data": {
      "text/plain": [
       "['[[[0,[5,8]],[[1,7],[9,6]]],[[4,[1,2]],[[1,4],2]]]',\n",
       " '[[[5,[2,8]],4],[5,[[9,9],0]]]',\n",
       " '[6,[[[6,2],[5,6]],[[7,6],[4,7]]]]',\n",
       " '[[[6,[0,7]],[0,9]],[4,[9,[9,0]]]]',\n",
       " '[[[7,[6,4]],[3,[1,3]]],[[[5,5],1],9]]',\n",
       " '[[6,[[7,3],[3,2]]],[[[3,8],[5,7]],4]]',\n",
       " '[[[[5,4],[7,7]],8],[[8,3],8]]',\n",
       " '[[9,3],[[9,9],[6,[4,9]]]]',\n",
       " '[[2,[[7,7],7]],[[5,8],[[9,3],[0,2]]]]',\n",
       " '[[[[5,2],5],[8,[3,7]]],[[5,[7,5]],[4,4]]]']"
      ]
     },
     "execution_count": 34,
     "metadata": {},
     "output_type": "execute_result"
    }
   ],
   "source": [
    "lines_example1 = read_file(\"C:/Code/advent/2021_day18_example1.txt\")\n",
    "lines_example1"
   ]
  },
  {
   "cell_type": "code",
   "execution_count": 35,
   "metadata": {},
   "outputs": [
    {
     "data": {
      "text/plain": [
       "[[[[0, [5, 8]], [[1, 7], [9, 6]]], [[4, [1, 2]], [[1, 4], 2]]],\n",
       " [[[5, [2, 8]], 4], [5, [[9, 9], 0]]],\n",
       " [6, [[[6, 2], [5, 6]], [[7, 6], [4, 7]]]],\n",
       " [[[6, [0, 7]], [0, 9]], [4, [9, [9, 0]]]],\n",
       " [[[7, [6, 4]], [3, [1, 3]]], [[[5, 5], 1], 9]],\n",
       " [[6, [[7, 3], [3, 2]]], [[[3, 8], [5, 7]], 4]],\n",
       " [[[[5, 4], [7, 7]], 8], [[8, 3], 8]],\n",
       " [[9, 3], [[9, 9], [6, [4, 9]]]],\n",
       " [[2, [[7, 7], 7]], [[5, 8], [[9, 3], [0, 2]]]],\n",
       " [[[[5, 2], 5], [8, [3, 7]]], [[5, [7, 5]], [4, 4]]]]"
      ]
     },
     "execution_count": 35,
     "metadata": {},
     "output_type": "execute_result"
    }
   ],
   "source": [
    "def parse(input):        \n",
    "    return list(map(ast.literal_eval,input))\n",
    "\n",
    "parse(lines_example1)"
   ]
  },
  {
   "cell_type": "code",
   "execution_count": 73,
   "metadata": {},
   "outputs": [
    {
     "name": "stdout",
     "output_type": "stream",
     "text": [
      "[(1, 2), (2, 2)]\n",
      "[(1, 3), (2, 3), (3, 4), (4, 4), (5, 3)]\n",
      "[(0, 5), (7, 5), (4, 4), (7, 5), (8, 5), (6, 5), (0, 5), (8, 3), (1, 3)]\n",
      "[(1, 5), (1, 5), (2, 5), (2, 5), (3, 4), (3, 4), (4, 3), (4, 3)]\n",
      "[(3, 5), (0, 5), (5, 5), (3, 5), (4, 4), (4, 4), (5, 3), (5, 3)]\n",
      "[(5, 5), (0, 5), (7, 5), (4, 5), (5, 4), (5, 4), (6, 3), (6, 3)]\n",
      "[(8, 5), (7, 5), (7, 5), (7, 5), (8, 5), (6, 5), (7, 5), (7, 5), (0, 5), (7, 5), (6, 5), (6, 5), (8, 4), (7, 4)]\n"
     ]
    }
   ],
   "source": [
    "def make_flat_with_depth(input, depth):\n",
    "    if type(input) is list:\n",
    "        left = make_flat_with_depth(input[0], depth+1)\n",
    "        right = make_flat_with_depth(input[1], depth+1)\n",
    "        result = []\n",
    "        for v in left:\n",
    "            result.append(v)\n",
    "        for v in right:\n",
    "            result.append(v)\n",
    "        return result\n",
    "    else:\n",
    "        return [(input, depth)]\n",
    "\n",
    "def make_flat(input):\n",
    "    return make_flat_with_depth(input, 1)\n",
    "\n",
    "print(make_flat([1,2]))\n",
    "print(make_flat([[1,2],[[3,4],5]]))\n",
    "print(make_flat([[[[0,7],4],[[7,8],[6,0]]],[8,1]]))\n",
    "print(make_flat([[[[1,1],[2,2]],[3,3]],[4,4]]))\n",
    "print(make_flat([[[[3,0],[5,3]],[4,4]],[5,5]]))\n",
    "print(make_flat([[[[5,0],[7,4]],[5,5]],[6,6]]))\n",
    "print(make_flat([[[[8,7],[7,7]],[[8,6],[7,7]]],[[[0,7],[6,6]],[8,7]]]))"
   ]
  },
  {
   "cell_type": "code",
   "execution_count": 83,
   "metadata": {},
   "outputs": [
    {
     "name": "stdout",
     "output_type": "stream",
     "text": [
      "7\n",
      "143\n",
      "1384\n",
      "445\n",
      "791\n",
      "1137\n",
      "3488\n"
     ]
    }
   ],
   "source": [
    "def find_pair_index(input):\n",
    "    for i in range(len(input)-1):\n",
    "        if input[i][1] == input[i+1][1]:\n",
    "            return i\n",
    "    return None\n",
    "\n",
    "def calculate_magnitude_flat(input):\n",
    "    if len(input) == 1:\n",
    "        return input[0][0]\n",
    "    index = find_pair_index(input)\n",
    "    left = input[index]\n",
    "    right = input[index+1]\n",
    "    new_depth = input[index][1]-1\n",
    "    subresult = (3*left[0] + 2*right[0], new_depth)\n",
    "    result = []\n",
    "    if index > 0:\n",
    "        for v in input[0:index]:\n",
    "            result.append(v)       \n",
    "    result.append(subresult)\n",
    "    if index < len(input)-2:\n",
    "        for v in input[index+2:]:\n",
    "            result.append(v)\n",
    "    return calculate_magnitude_flat(result)\n",
    "\n",
    "print(calculate_magnitude_flat(make_flat([1,2])))\n",
    "print(calculate_magnitude_flat(make_flat([[1,2],[[3,4],5]])))\n",
    "print(calculate_magnitude_flat(make_flat([[[[0,7],4],[[7,8],[6,0]]],[8,1]])))\n",
    "print(calculate_magnitude_flat(make_flat([[[[1,1],[2,2]],[3,3]],[4,4]])))\n",
    "print(calculate_magnitude_flat(make_flat([[[[3,0],[5,3]],[4,4]],[5,5]])))\n",
    "print(calculate_magnitude_flat(make_flat([[[[5,0],[7,4]],[5,5]],[6,6]])))\n",
    "print(calculate_magnitude_flat(make_flat([[[[8,7],[7,7]],[[8,6],[7,7]]],[[[0,7],[6,6]],[8,7]]])))\n"
   ]
  },
  {
   "cell_type": "code",
   "execution_count": 96,
   "metadata": {},
   "outputs": [
    {
     "name": "stdout",
     "output_type": "stream",
     "text": [
      "[1, 2]\n",
      "[[1, 2], [[3, 4], 5]]\n",
      "[[[[0, 7], 4], [[7, 8], [6, 0]]], [8, 1]]\n",
      "[[[[1, 1], [2, 2]], [3, 3]], [4, 4]]\n",
      "[[[[3, 0], [5, 3]], [4, 4]], [5, 5]]\n",
      "[[[[5, 0], [7, 4]], [5, 5]], [6, 6]]\n",
      "[[[[8, 7], [7, 7]], [[8, 6], [7, 7]]], [[[0, 7], [6, 6]], [8, 7]]]\n"
     ]
    }
   ],
   "source": [
    "def from_flat(input):\n",
    "    if len(input) == 1:\n",
    "        return input[0][0]\n",
    "    index = find_pair_index(input)\n",
    "    left = input[index]\n",
    "    right = input[index+1]\n",
    "    new_depth = input[index][1]-1\n",
    "    subresult = ([left[0],right[0]], new_depth)\n",
    "    result = []\n",
    "    if index > 0:\n",
    "        for v in input[0:index]:\n",
    "            result.append(v)       \n",
    "    result.append(subresult)\n",
    "    if index < len(input)-2:\n",
    "        for v in input[index+2:]:\n",
    "            result.append(v)\n",
    "    return from_flat(result)\n",
    "\n",
    "print(from_flat(make_flat([1,2])))\n",
    "print(from_flat(make_flat([[1,2],[[3,4],5]])))\n",
    "print(from_flat(make_flat([[[[0,7],4],[[7,8],[6,0]]],[8,1]])))\n",
    "print(from_flat(make_flat([[[[1,1],[2,2]],[3,3]],[4,4]])))\n",
    "print(from_flat(make_flat([[[[3,0],[5,3]],[4,4]],[5,5]])))\n",
    "print(from_flat(make_flat([[[[5,0],[7,4]],[5,5]],[6,6]])))\n",
    "print(from_flat(make_flat([[[[8,7],[7,7]],[[8,6],[7,7]]],[[[0,7],[6,6]],[8,7]]])))"
   ]
  },
  {
   "cell_type": "code",
   "execution_count": 106,
   "metadata": {},
   "outputs": [
    {
     "name": "stdout",
     "output_type": "stream",
     "text": [
      "[(6, 3), (5, 4), (7, 5), (0, 5), (3, 2)]\n",
      "[(3, 3), (2, 4), (8, 5), (0, 5), (9, 3), (5, 4), (4, 5), (3, 6), (2, 6)]\n",
      "------------------------------\n",
      "[[[[0, 9], 2], 3], 4]\n",
      "[7, [6, [5, [7, 0]]]]\n",
      "[[6, [5, [7, 0]]], 3]\n",
      "[[3, [2, [8, 0]]], [9, [5, [4, [3, 2]]]]]\n",
      "[[3, [2, [8, 0]]], [9, [5, [7, 0]]]]\n"
     ]
    }
   ],
   "source": [
    "def find_pair_index_with_depth(input, depth):\n",
    "    for i in range(len(input)-1):\n",
    "        if input[i][1] < depth:\n",
    "            continue\n",
    "        if input[i][1] == input[i+1][1]:\n",
    "            return i\n",
    "    return None\n",
    "\n",
    "def explode_flat(input,debug):\n",
    "    index = find_pair_index_with_depth(input,6)\n",
    "    if index == None:\n",
    "        return None\n",
    "    left = input[index]\n",
    "    right = input[index+1]\n",
    "    new_depth = input[index][1]-1\n",
    "    result = []\n",
    "    if index > 0:\n",
    "        for j in range(0,index):\n",
    "            v = input[j]\n",
    "            if j == index-1:\n",
    "                v = (input[j][0] + left[0],input[j][1])\n",
    "            result.append(v)       \n",
    "    subresult = (0, new_depth)\n",
    "    result.append(subresult)\n",
    "    if index < len(input)-2:\n",
    "        for j in range(index+2, len(input)):\n",
    "            v = input[j]\n",
    "            if j == index+2:\n",
    "                v = (input[j][0] + right[0],input[j][1])\n",
    "            result.append(v)\n",
    "    return result\n",
    "\n",
    "def test_explode_flat(input):\n",
    "    flat = make_flat(input)\n",
    "    exploded = explode_flat(flat,False)\n",
    "    result = from_flat(exploded)\n",
    "    print(result)\n",
    "\n",
    "\n",
    "print(explode_flat(make_flat([[6,[5,[4,[3,2]]]],1]), True))\n",
    "print(explode_flat(make_flat([[3,[2,[1,[7,3]]]],[6,[5,[4,[3,2]]]]]),True))\n",
    "print('------------------------------')\n",
    "test_explode_flat([[[[[9,8],1],2],3],4])\n",
    "test_explode_flat([7,[6,[5,[4,[3,2]]]]])\n",
    "test_explode_flat([[6,[5,[4,[3,2]]]],1])\n",
    "test_explode_flat([[3,[2,[1,[7,3]]]],[6,[5,[4,[3,2]]]]])\n",
    "test_explode_flat([[3,[2,[8,0]]],[9,[5,[4,[3,2]]]]])\n"
   ]
  },
  {
   "cell_type": "code",
   "execution_count": 110,
   "metadata": {},
   "outputs": [
    {
     "name": "stdout",
     "output_type": "stream",
     "text": [
      "[[[[0, 7], 4], [[7, 8], [0, 13]]], [1, 1]]\n",
      "[[[[0, 7], 4], [[7, 8], [0, [6, 7]]]], [1, 1]]\n"
     ]
    }
   ],
   "source": [
    "def find_index_with_large_value(input, min_value):\n",
    "    for i in range(len(input)):\n",
    "        if input[i][0] < min_value:\n",
    "            continue\n",
    "        return i\n",
    "    return None\n",
    "\n",
    "def split_flat(input,debug):\n",
    "    index = find_index_with_large_value(input,10)\n",
    "    if index == None:\n",
    "        return None\n",
    "    target = input[index]\n",
    "    new_depth = input[index][1]+1\n",
    "    result = []\n",
    "    if index > 0:\n",
    "        for j in range(0,index):\n",
    "            v = input[j]\n",
    "            result.append(v)\n",
    "    left_value = target[0] // 2\n",
    "    right_value = target[0] - left_value\n",
    "    subresult_left = (left_value, new_depth)\n",
    "    subresult_right = (right_value, new_depth)\n",
    "    result.append(subresult_left)\n",
    "    result.append(subresult_right)\n",
    "    if index < len(input)-1:\n",
    "        for j in range(index+1, len(input)):\n",
    "            v = input[j]\n",
    "            result.append(v)\n",
    "    return result\n",
    "\n",
    "def test_split_flat(input):\n",
    "    flat = make_flat(input)\n",
    "    splitted = split_flat(flat,False)\n",
    "    result = from_flat(splitted)\n",
    "    print(result)\n",
    "\n",
    "test_split_flat([[[[0,7],4],[15,[0,13]]],[1,1]])\n",
    "test_split_flat([[[[0, 7], 4], [[7, 8], [0, 13]]], [1, 1]])"
   ]
  },
  {
   "cell_type": "code",
   "execution_count": 114,
   "metadata": {},
   "outputs": [
    {
     "name": "stdout",
     "output_type": "stream",
     "text": [
      "after explode [(0, 5), (7, 5), (4, 4), (7, 4), (8, 6), (4, 6), (9, 5), (1, 3), (1, 3)]\n",
      "after explode [(0, 5), (7, 5), (4, 4), (15, 4), (0, 5), (13, 5), (1, 3), (1, 3)]\n",
      "after split [(0, 5), (7, 5), (4, 4), (15, 4), (0, 5), (13, 5), (1, 3), (1, 3)]\n",
      "after split [(0, 5), (7, 5), (4, 4), (7, 5), (8, 5), (0, 5), (13, 5), (1, 3), (1, 3)]\n",
      "after explode [(0, 5), (7, 5), (4, 4), (7, 5), (8, 5), (6, 5), (0, 5), (8, 3), (1, 3)]\n",
      "[[[[0, 7], 4], [[7, 8], [6, 0]]], [8, 1]]\n"
     ]
    }
   ],
   "source": [
    "def reduce_flat(input, debug):\n",
    "    data = input\n",
    "    while True:        \n",
    "        exploded = explode_flat(data,False)\n",
    "        if exploded != None:\n",
    "            if debug:\n",
    "                print('after explode', exploded)\n",
    "            data = exploded\n",
    "            continue\n",
    "        splitted = split_flat(data,False)\n",
    "        if splitted != None:\n",
    "            if debug:\n",
    "                print('after split', data)\n",
    "            data = splitted\n",
    "            continue\n",
    "        break\n",
    "    return data  \n",
    "\n",
    "def test_reduce_flat(input):\n",
    "    flat = make_flat(input)\n",
    "    reduced = reduce_flat(flat,True)\n",
    "    result = from_flat(reduced)\n",
    "    print(result)\n",
    "\n",
    "test_reduce_flat([[[[[4,3],4],4],[7,[[8,4],9]]],[1,1]])"
   ]
  },
  {
   "cell_type": "code",
   "execution_count": 87,
   "metadata": {},
   "outputs": [
    {
     "name": "stdout",
     "output_type": "stream",
     "text": [
      "after addition [(4, 6), (3, 6), (4, 5), (4, 4), (7, 4), (8, 6), (4, 6), (9, 5), (1, 3), (1, 3)]\n"
     ]
    },
    {
     "data": {
      "text/plain": [
       "[(4, 6),\n",
       " (3, 6),\n",
       " (4, 5),\n",
       " (4, 4),\n",
       " (7, 4),\n",
       " (8, 6),\n",
       " (4, 6),\n",
       " (9, 5),\n",
       " (1, 3),\n",
       " (1, 3)]"
      ]
     },
     "execution_count": 87,
     "metadata": {},
     "output_type": "execute_result"
    }
   ],
   "source": [
    "def add_flat(first, second, debug):\n",
    "    result = []\n",
    "    for v in first:\n",
    "        result.append((v[0],v[1]+1))\n",
    "    for v in second:\n",
    "        result.append((v[0],v[1]+1))        \n",
    "    if debug:\n",
    "        print('after addition', result)\n",
    "    return reduce_flat(result, debug)\n",
    "\n",
    "add_flat(make_flat([[[[4,3],4],4],[7,[[8,4],9]]]) , make_flat([1,1]), True)"
   ]
  },
  {
   "cell_type": "code",
   "execution_count": 119,
   "metadata": {},
   "outputs": [
    {
     "data": {
      "text/plain": [
       "4140"
      ]
     },
     "execution_count": 119,
     "metadata": {},
     "output_type": "execute_result"
    }
   ],
   "source": [
    "def calculate_part_one(input, debug):\n",
    "    current = make_flat(input[0])\n",
    "    for i in range(1,len(input)):\n",
    "        current = add_flat(current, make_flat(input[i]), debug)\n",
    "    \n",
    "    return calculate_magnitude_flat(current)\n",
    "    \n",
    "calculate_part_one(parse(lines_example1), False)"
   ]
  },
  {
   "cell_type": "code",
   "execution_count": 121,
   "metadata": {},
   "outputs": [
    {
     "data": {
      "text/plain": [
       "4207"
      ]
     },
     "execution_count": 121,
     "metadata": {},
     "output_type": "execute_result"
    }
   ],
   "source": [
    "calculate_part_one(parse(lines), False)"
   ]
  },
  {
   "cell_type": "code",
   "execution_count": 130,
   "metadata": {},
   "outputs": [
    {
     "data": {
      "text/plain": [
       "3993"
      ]
     },
     "execution_count": 130,
     "metadata": {},
     "output_type": "execute_result"
    }
   ],
   "source": [
    "def calculate_sum_magnitude(left, right):\n",
    "    first = make_flat(left)\n",
    "    second = make_flat(right)\n",
    "    total = add_flat(first, second, False)\n",
    "    value = calculate_magnitude_flat(total)\n",
    "    return value\n",
    "\n",
    "def calculate_part_two(input):\n",
    "    maximum = 0\n",
    "    for i in range(0,len(input)):\n",
    "        for j in range(0,len(input)):\n",
    "            value = calculate_sum_magnitude(input[i], input[j])\n",
    "            if value > maximum:\n",
    "                maximum = value\n",
    "            #print(i,j,value, maximum)                \n",
    "    return maximum\n",
    "\n",
    "calculate_part_two(parse(lines_example1))"
   ]
  },
  {
   "cell_type": "code",
   "execution_count": 131,
   "metadata": {},
   "outputs": [
    {
     "data": {
      "text/plain": [
       "4635"
      ]
     },
     "execution_count": 131,
     "metadata": {},
     "output_type": "execute_result"
    }
   ],
   "source": [
    "calculate_part_two(parse(lines))"
   ]
  }
 ],
 "metadata": {
  "interpreter": {
   "hash": "fcd7bd45f351dd23b7a4d8eb4c9674b82763fce30f8b7d1ce24b9e6f66f71e8e"
  },
  "kernelspec": {
   "display_name": "Python 3.9.5 64-bit",
   "language": "python",
   "name": "python3"
  },
  "language_info": {
   "codemirror_mode": {
    "name": "ipython",
    "version": 3
   },
   "file_extension": ".py",
   "mimetype": "text/x-python",
   "name": "python",
   "nbconvert_exporter": "python",
   "pygments_lexer": "ipython3",
   "version": "3.9.5"
  },
  "orig_nbformat": 4
 },
 "nbformat": 4,
 "nbformat_minor": 2
}
