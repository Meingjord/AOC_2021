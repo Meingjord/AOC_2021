{
 "cells": [
  {
   "cell_type": "code",
   "execution_count": 1,
   "metadata": {},
   "outputs": [],
   "source": [
    "import pandas as pd\n",
    "import os\n",
    "import copy\n",
    "import unittest\n",
    "import string\n",
    "import re"
   ]
  },
  {
   "cell_type": "code",
   "execution_count": 2,
   "metadata": {},
   "outputs": [],
   "source": [
    "trainFile = \"C:/Code/advent/2021_day9_input.txt\"\n",
    "pwd = os.getcwd()\n",
    "os.chdir(os.path.dirname(trainFile))\n",
    "file1 = open(trainFile, 'r') \n",
    "lines = file1.read().splitlines()"
   ]
  },
  {
   "cell_type": "code",
   "execution_count": 3,
   "metadata": {},
   "outputs": [
    {
     "data": {
      "text/plain": [
       "['2199943210', '3987894921', '9856789892', '8767896789', '9899965678']"
      ]
     },
     "execution_count": 3,
     "metadata": {},
     "output_type": "execute_result"
    }
   ],
   "source": [
    "exampleFile = \"C:/Code/advent/2021_day9_example.txt\"\n",
    "pwd = os.getcwd()\n",
    "os.chdir(os.path.dirname(exampleFile))\n",
    "file2 = open(exampleFile, 'r') \n",
    "exampleLines = file2.read().splitlines()\n",
    "exampleLines"
   ]
  },
  {
   "cell_type": "code",
   "execution_count": 5,
   "metadata": {},
   "outputs": [
    {
     "data": {
      "text/plain": [
       "[[2, 1, 9, 9, 9, 4, 3, 2, 1, 0],\n",
       " [3, 9, 8, 7, 8, 9, 4, 9, 2, 1],\n",
       " [9, 8, 5, 6, 7, 8, 9, 8, 9, 2],\n",
       " [8, 7, 6, 7, 8, 9, 6, 7, 8, 9],\n",
       " [9, 8, 9, 9, 9, 6, 5, 6, 7, 8]]"
      ]
     },
     "execution_count": 5,
     "metadata": {},
     "output_type": "execute_result"
    }
   ],
   "source": [
    "def parse_line(txt):    \n",
    "    return list(map(int, txt))\n",
    "\n",
    "def parse(input):\n",
    "    return list(map(parse_line, input))\n",
    "\n",
    "parse(exampleLines)"
   ]
  },
  {
   "cell_type": "code",
   "execution_count": 12,
   "metadata": {},
   "outputs": [
    {
     "data": {
      "text/plain": [
       "15"
      ]
     },
     "execution_count": 12,
     "metadata": {},
     "output_type": "execute_result"
    }
   ],
   "source": [
    "def is_low_point(input, point):\n",
    "    row_count = len(input)\n",
    "    column_count = len(input[0])\n",
    "    x = point[0]\n",
    "    y = point[1]\n",
    "    if x > 0:\n",
    "        if input[y][x-1] <= input[y][x]:\n",
    "            return False\n",
    "    if x < column_count - 1:\n",
    "        if input[y][x+1] <= input[y][x]:\n",
    "            return False\n",
    "    if y > 0:\n",
    "        if input[y-1][x] <= input[y][x]:\n",
    "            return False\n",
    "    if y < row_count - 1:\n",
    "        if input[y+1][x] <= input[y][x]:\n",
    "            return False\n",
    "    return True\n",
    "\n",
    "def find_low_points(input):\n",
    "    row_count = len(input)\n",
    "    column_count = len(input[0])\n",
    "    result = {}\n",
    "    for row in range(row_count):\n",
    "        for col in range(column_count):\n",
    "            point = (col, row)\n",
    "            if is_low_point(input, point):\n",
    "                result[point] = 1\n",
    "    return result\n",
    "\n",
    "def solve_part_one(input):\n",
    "    points = find_low_points(input)\n",
    "    risk = sum(1 + input[p[1]][p[0]] for p in points)\n",
    "    return risk\n",
    "\n",
    "solve_part_one(parse(exampleLines))"
   ]
  },
  {
   "cell_type": "code",
   "execution_count": 13,
   "metadata": {},
   "outputs": [
    {
     "data": {
      "text/plain": [
       "489"
      ]
     },
     "execution_count": 13,
     "metadata": {},
     "output_type": "execute_result"
    }
   ],
   "source": [
    "solve_part_one(parse(lines))"
   ]
  },
  {
   "cell_type": "code",
   "execution_count": 34,
   "metadata": {},
   "outputs": [
    {
     "data": {
      "text/plain": [
       "1134"
      ]
     },
     "execution_count": 34,
     "metadata": {},
     "output_type": "execute_result"
    }
   ],
   "source": [
    "def find_pair(input):    \n",
    "    for (x,y) in input:\n",
    "        color1 = input[(x,y)]\n",
    "        right = (x+1, y)\n",
    "        if right in input:\n",
    "            color2 = input[right]\n",
    "            if (color1 != color2):\n",
    "                return ((x,y), right)\n",
    "        below = (x, y+1)\n",
    "        if below in input:\n",
    "            color2 = input[below]\n",
    "            if (color1 != color2):\n",
    "                return ((x,y), below)\n",
    "\n",
    "    return None\n",
    "\n",
    "def paint_one(data, pair):\n",
    "    point1 = pair[0]\n",
    "    point2 = pair[1]\n",
    "    new_color = data[point1]\n",
    "    old_color = data[point2]\n",
    "    for p in data:\n",
    "        if data[p] == old_color:\n",
    "            \n",
    "            data[p] = new_color\n",
    "\n",
    "def paint(input):\n",
    "    result = copy.deepcopy(input)\n",
    "    pair = find_pair(result)\n",
    "    while pair != None:\n",
    "        paint_one(result,pair)\n",
    "        pair = find_pair(result)\n",
    "    return result\n",
    "\n",
    "def find_basins(input):\n",
    "    row_count = len(input)\n",
    "    column_count = len(input[0])\n",
    "    color = {}\n",
    "    i = 0\n",
    "    for row in range(row_count):\n",
    "        for col in range(column_count):\n",
    "            (x,y) = (col, row)\n",
    "            if input[y][x] == 9:\n",
    "                continue\n",
    "            i += 1\n",
    "            color[(x,y)] = i\n",
    "    \n",
    "    painted = paint(color)\n",
    "\n",
    "    result = []\n",
    "    for c in range(i):\n",
    "        size = sum(1 if painted[p] == c else 0 for p in painted)\n",
    "        if size > 0:\n",
    "            result.append(size)\n",
    "    return result\n",
    "\n",
    "def three_largest(input):\n",
    "    s = sorted(input, reverse=True)\n",
    "    return s[0] * s[1] * s[2]\n",
    "\n",
    "def solve_part_two(input):\n",
    "    basins = find_basins(input)\n",
    "    return three_largest(basins)\n",
    "\n",
    "solve_part_two(parse(exampleLines))"
   ]
  },
  {
   "cell_type": "code",
   "execution_count": 35,
   "metadata": {},
   "outputs": [
    {
     "data": {
      "text/plain": [
       "1056330"
      ]
     },
     "execution_count": 35,
     "metadata": {},
     "output_type": "execute_result"
    }
   ],
   "source": [
    "solve_part_two(parse(lines))"
   ]
  }
 ],
 "metadata": {
  "interpreter": {
   "hash": "fcd7bd45f351dd23b7a4d8eb4c9674b82763fce30f8b7d1ce24b9e6f66f71e8e"
  },
  "kernelspec": {
   "display_name": "Python 3.9.5 64-bit",
   "language": "python",
   "name": "python3"
  },
  "language_info": {
   "codemirror_mode": {
    "name": "ipython",
    "version": 3
   },
   "file_extension": ".py",
   "mimetype": "text/x-python",
   "name": "python",
   "nbconvert_exporter": "python",
   "pygments_lexer": "ipython3",
   "version": "3.9.5"
  },
  "orig_nbformat": 4
 },
 "nbformat": 4,
 "nbformat_minor": 2
}
