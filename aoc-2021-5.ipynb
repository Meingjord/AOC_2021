{
 "cells": [
  {
   "cell_type": "code",
   "execution_count": 1,
   "metadata": {},
   "outputs": [],
   "source": [
    "import pandas as pd\n",
    "import os\n",
    "import copy\n",
    "import unittest\n",
    "import string\n",
    "import re"
   ]
  },
  {
   "cell_type": "code",
   "execution_count": 2,
   "metadata": {},
   "outputs": [],
   "source": [
    "trainFile = \"C:/Code/advent/2021_day5_input.txt\"\n",
    "pwd = os.getcwd()\n",
    "os.chdir(os.path.dirname(trainFile))\n",
    "file1 = open(trainFile, 'r') \n",
    "lines = file1.read().splitlines()"
   ]
  },
  {
   "cell_type": "code",
   "execution_count": 3,
   "metadata": {},
   "outputs": [
    {
     "data": {
      "text/plain": [
       "['0,9 -> 5,9',\n",
       " '8,0 -> 0,8',\n",
       " '9,4 -> 3,4',\n",
       " '2,2 -> 2,1',\n",
       " '7,0 -> 7,4',\n",
       " '6,4 -> 2,0',\n",
       " '0,9 -> 2,9',\n",
       " '3,4 -> 1,4',\n",
       " '0,0 -> 8,8',\n",
       " '5,5 -> 8,2']"
      ]
     },
     "execution_count": 3,
     "metadata": {},
     "output_type": "execute_result"
    }
   ],
   "source": [
    "exampleFile = \"C:/Code/advent/2021_day5_example.txt\"\n",
    "pwd = os.getcwd()\n",
    "os.chdir(os.path.dirname(exampleFile))\n",
    "file2 = open(exampleFile, 'r') \n",
    "exampleLines = file2.read().splitlines()\n",
    "exampleLines"
   ]
  },
  {
   "cell_type": "code",
   "execution_count": 32,
   "metadata": {},
   "outputs": [
    {
     "data": {
      "text/plain": [
       "[((0, 9), (5, 9)),\n",
       " ((8, 0), (0, 8)),\n",
       " ((9, 4), (3, 4)),\n",
       " ((2, 2), (2, 1)),\n",
       " ((7, 0), (7, 4)),\n",
       " ((6, 4), (2, 0)),\n",
       " ((0, 9), (2, 9)),\n",
       " ((3, 4), (1, 4)),\n",
       " ((0, 0), (8, 8)),\n",
       " ((5, 5), (8, 2))]"
      ]
     },
     "execution_count": 32,
     "metadata": {},
     "output_type": "execute_result"
    }
   ],
   "source": [
    "def parse_line(txt):\n",
    "    parts = txt.split()\n",
    "    pair1 = parts[0].split(',')\n",
    "    pair2 = parts[2].split(',')\n",
    "    tuple1 = (int(pair1[0]),int(pair1[1]))\n",
    "    tuple2 = (int(pair2[0]),int(pair2[1]))\n",
    "    return (tuple1, tuple2)\n",
    "\n",
    "def parse(input):\n",
    "    return list(map(parse_line, input)) \n",
    "\n",
    "parse(exampleLines)"
   ]
  },
  {
   "cell_type": "code",
   "execution_count": 9,
   "metadata": {},
   "outputs": [
    {
     "data": {
      "text/plain": [
       "[((0, 9), (5, 9)),\n",
       " ((9, 4), (3, 4)),\n",
       " ((2, 2), (2, 1)),\n",
       " ((7, 0), (7, 4)),\n",
       " ((0, 9), (2, 9)),\n",
       " ((3, 4), (1, 4))]"
      ]
     },
     "execution_count": 9,
     "metadata": {},
     "output_type": "execute_result"
    }
   ],
   "source": [
    "def horizontal_or_vertical(input):\n",
    "    return list(filter(lambda x: x[0][0] == x[1][0] or x[0][1]==x[1][1], input))\n",
    "\n",
    "horizontal_or_vertical(parse(exampleLines))"
   ]
  },
  {
   "cell_type": "code",
   "execution_count": 26,
   "metadata": {},
   "outputs": [
    {
     "data": {
      "text/plain": [
       "5"
      ]
     },
     "execution_count": 26,
     "metadata": {},
     "output_type": "execute_result"
    }
   ],
   "source": [
    "def solve_part_1(input):\n",
    "    data = horizontal_or_vertical(input)\n",
    "    points = {}\n",
    "    for (f,t) in data:\n",
    "        if (f[0]==t[0]):\n",
    "            y_low = f[1] if f[1] < t[1] else t[1]\n",
    "            y_high = f[1] if f[1] > t[1] else t[1]\n",
    "            for y in range(y_low, y_high+1):\n",
    "                p = (f[0],y)\n",
    "                points[p] = points.get(p, 0) + 1\n",
    "        elif (f[1]==t[1]):\n",
    "            x_low = f[0] if f[0] < t[0] else t[0]\n",
    "            x_high = f[0] if f[0] > t[0] else t[0]\n",
    "            for x in range(x_low, x_high+1):\n",
    "                p = (x,f[1])\n",
    "                points[p] = points.get(p, 0) + 1\n",
    "\n",
    "    return sum(1 for x in points if points[x] > 1)\n",
    "\n",
    "solve_part_1(parse(exampleLines))"
   ]
  },
  {
   "cell_type": "code",
   "execution_count": 27,
   "metadata": {},
   "outputs": [
    {
     "data": {
      "text/plain": [
       "8111"
      ]
     },
     "execution_count": 27,
     "metadata": {},
     "output_type": "execute_result"
    }
   ],
   "source": [
    "solve_part_1(parse(lines))"
   ]
  },
  {
   "cell_type": "code",
   "execution_count": 37,
   "metadata": {},
   "outputs": [
    {
     "name": "stdout",
     "output_type": "stream",
     "text": [
      "1......11.\n",
      ".111...2..\n",
      "..2.1.11..\n",
      "...1.2.2..\n",
      ".112313211\n",
      "...1.2....\n",
      "..1...1...\n",
      ".1.....1..\n",
      "..........\n",
      "222111....\n"
     ]
    },
    {
     "data": {
      "text/plain": [
       "12"
      ]
     },
     "execution_count": 37,
     "metadata": {},
     "output_type": "execute_result"
    }
   ],
   "source": [
    "def print_map(points, dim):\n",
    "    for y in range(0,dim):\n",
    "        for x in range(0,dim):\n",
    "            character = points.get((x,y),'.')\n",
    "            print(character, end='')\n",
    "        print('')             \n",
    "\n",
    "def solve_part_2(input):\n",
    "    points = {}\n",
    "    for (f,t) in input:\n",
    "        x_low = f[0] if f[0] < t[0] else t[0]\n",
    "        x_high = f[0] if f[0] > t[0] else t[0]\n",
    "        y_low = f[1] if f[1] < t[1] else t[1]\n",
    "        y_high = f[1] if f[1] > t[1] else t[1]\n",
    "        x_direction = 1 if f[0] < t[0] else -1\n",
    "        y_direction = 1 if f[1] < t[1] else -1\n",
    "        if (f[0]==t[0]):\n",
    "            y_low = f[1] if f[1] < t[1] else t[1]\n",
    "            y_high = f[1] if f[1] > t[1] else t[1]\n",
    "            for y in range(y_low, y_high+1):\n",
    "                p = (f[0],y)\n",
    "                points[p] = points.get(p, 0) + 1\n",
    "        elif (f[1]==t[1]):\n",
    "            x_low = f[0] if f[0] < t[0] else t[0]\n",
    "            x_high = f[0] if f[0] > t[0] else t[0]\n",
    "            for x in range(x_low, x_high+1):\n",
    "                p = (x,f[1])\n",
    "                points[p] = points.get(p, 0) + 1\n",
    "        else:\n",
    "            for i in range(0,max(x_high-x_low, y_high-y_low)):\n",
    "                p = (f[0] + i * x_direction, f[1] + i * y_direction)\n",
    "                points[p] = points.get(p, 0) + 1\n",
    "\n",
    "    print_map(points,10)\n",
    "\n",
    "    return sum(1 for x in points if points[x] > 1)\n",
    "\n",
    "solve_part_2(parse(exampleLines))"
   ]
  },
  {
   "cell_type": "code",
   "execution_count": 41,
   "metadata": {},
   "outputs": [
    {
     "name": "stdout",
     "output_type": "stream",
     "text": [
      "1.1....11.\n",
      ".111...2..\n",
      "..2.1.111.\n",
      "...1.2.2..\n",
      ".112313211\n",
      "...1.2....\n",
      "..1...1...\n",
      ".1.....1..\n",
      "1.......1.\n",
      "222111....\n"
     ]
    },
    {
     "data": {
      "text/plain": [
       "12"
      ]
     },
     "execution_count": 41,
     "metadata": {},
     "output_type": "execute_result"
    }
   ],
   "source": [
    "def solve_part_2_shorter(input):\n",
    "    points = {}\n",
    "    for (f,t) in input:\n",
    "        x_direction = 1 if f[0] < t[0] else 0 if f[0] == t[0] else -1\n",
    "        y_direction = 1 if f[1] < t[1] else 0 if f[1] == t[1] else -1\n",
    "        for i in range(0,max(abs(f[0]-t[0]), abs(f[1]-t[1]))+1):\n",
    "            p = (f[0] + i * x_direction, f[1] + i * y_direction)\n",
    "            points[p] = points.get(p, 0) + 1\n",
    "\n",
    "    print_map(points,10)\n",
    "\n",
    "    return sum(1 for x in points if points[x] > 1)\n",
    "\n",
    "solve_part_2_shorter(parse(exampleLines))"
   ]
  },
  {
   "cell_type": "code",
   "execution_count": 42,
   "metadata": {},
   "outputs": [
    {
     "name": "stdout",
     "output_type": "stream",
     "text": [
      "..........\n",
      "..........\n",
      "..........\n",
      "..........\n",
      "..........\n",
      "..........\n",
      "..........\n",
      "..........\n",
      "..........\n",
      "..........\n"
     ]
    },
    {
     "data": {
      "text/plain": [
       "22088"
      ]
     },
     "execution_count": 42,
     "metadata": {},
     "output_type": "execute_result"
    }
   ],
   "source": [
    "solve_part_2_shorter(parse(lines))"
   ]
  }
 ],
 "metadata": {
  "interpreter": {
   "hash": "fcd7bd45f351dd23b7a4d8eb4c9674b82763fce30f8b7d1ce24b9e6f66f71e8e"
  },
  "kernelspec": {
   "display_name": "Python 3.9.5 64-bit",
   "language": "python",
   "name": "python3"
  },
  "language_info": {
   "codemirror_mode": {
    "name": "ipython",
    "version": 3
   },
   "file_extension": ".py",
   "mimetype": "text/x-python",
   "name": "python",
   "nbconvert_exporter": "python",
   "pygments_lexer": "ipython3",
   "version": "3.9.5"
  },
  "orig_nbformat": 4
 },
 "nbformat": 4,
 "nbformat_minor": 2
}
