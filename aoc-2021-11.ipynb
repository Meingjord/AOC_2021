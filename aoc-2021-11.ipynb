{
 "cells": [
  {
   "cell_type": "code",
   "execution_count": 1,
   "metadata": {},
   "outputs": [],
   "source": [
    "import pandas as pd\n",
    "import os\n",
    "import copy\n",
    "import unittest\n",
    "import string\n",
    "import re"
   ]
  },
  {
   "cell_type": "code",
   "execution_count": 2,
   "metadata": {},
   "outputs": [],
   "source": [
    "trainFile = \"C:/Code/advent/2021_day11_input.txt\"\n",
    "pwd = os.getcwd()\n",
    "os.chdir(os.path.dirname(trainFile))\n",
    "file1 = open(trainFile, 'r') \n",
    "lines = file1.read().splitlines()"
   ]
  },
  {
   "cell_type": "code",
   "execution_count": 3,
   "metadata": {},
   "outputs": [
    {
     "data": {
      "text/plain": [
       "['5483143223',\n",
       " '2745854711',\n",
       " '5264556173',\n",
       " '6141336146',\n",
       " '6357385478',\n",
       " '4167524645',\n",
       " '2176841721',\n",
       " '6882881134',\n",
       " '4846848554',\n",
       " '5283751526']"
      ]
     },
     "execution_count": 3,
     "metadata": {},
     "output_type": "execute_result"
    }
   ],
   "source": [
    "exampleFile = \"C:/Code/advent/2021_day11_example.txt\"\n",
    "pwd = os.getcwd()\n",
    "os.chdir(os.path.dirname(exampleFile))\n",
    "file2 = open(exampleFile, 'r') \n",
    "exampleLines = file2.read().splitlines()\n",
    "exampleLines"
   ]
  },
  {
   "cell_type": "code",
   "execution_count": 10,
   "metadata": {},
   "outputs": [
    {
     "data": {
      "text/plain": [
       "['11111', '19991', '19191', '19991', '11111']"
      ]
     },
     "execution_count": 10,
     "metadata": {},
     "output_type": "execute_result"
    }
   ],
   "source": [
    "exampleSmallFile = \"C:/Code/advent/2021_day11_example_small.txt\"\n",
    "pwd = os.getcwd()\n",
    "os.chdir(os.path.dirname(exampleSmallFile))\n",
    "file3 = open(exampleSmallFile, 'r') \n",
    "exampleSmallLines = file3.read().splitlines()\n",
    "exampleSmallLines"
   ]
  },
  {
   "cell_type": "code",
   "execution_count": 35,
   "metadata": {},
   "outputs": [
    {
     "name": "stdout",
     "output_type": "stream",
     "text": [
      "11111\n",
      "19991\n",
      "19191\n",
      "19991\n",
      "11111\n",
      "\n"
     ]
    }
   ],
   "source": [
    "def parse(input):\n",
    "    result = {}\n",
    "    row = 0\n",
    "    for line in input:\n",
    "        col = 0\n",
    "        for c in line:\n",
    "            point = (col,row)\n",
    "            result[point] = int(c)\n",
    "            col += 1\n",
    "        row += 1\n",
    "    return result\n",
    "\n",
    "def print_field(input):\n",
    "    x_n = 0\n",
    "    y_n = 0\n",
    "    for point in input:\n",
    "        x_n = max(x_n, point[0])\n",
    "        y_n = max(y_n, point[1])\n",
    "    for y in range(y_n+1):\n",
    "        line = ''\n",
    "        for x in range(x_n+1):\n",
    "            line += str(input[(x,y)])\n",
    "        print(line)\n",
    "    print('')\n",
    "\n",
    "print_field(parse(exampleSmallLines))"
   ]
  },
  {
   "cell_type": "code",
   "execution_count": 48,
   "metadata": {},
   "outputs": [
    {
     "name": "stdout",
     "output_type": "stream",
     "text": [
      "11111\n",
      "19991\n",
      "19191\n",
      "19991\n",
      "11111\n",
      "\n",
      "34543\n",
      "40004\n",
      "50005\n",
      "40004\n",
      "34543\n",
      "\n",
      "45654\n",
      "51115\n",
      "61116\n",
      "51115\n",
      "45654\n",
      "\n",
      "9\n"
     ]
    }
   ],
   "source": [
    "def calculate_next(input):\n",
    "    result = {}\n",
    "    for point in input:\n",
    "        value = input[point]\n",
    "        result[point] = value + 1\n",
    "\n",
    "    flashes = {}\n",
    "    keep_going = True\n",
    "    while keep_going:\n",
    "        keep_going = False\n",
    "        for point in result:\n",
    "            value = result[point]\n",
    "            if value <= 9 or point in flashes:\n",
    "                continue\n",
    "            # found a flash\n",
    "            keep_going = True\n",
    "            flashes[point] = 1\n",
    "            for adj in [(-1,0),(1,0),(0,1),(0,-1),(-1,-1),(1,-1),(-1,1),(1,1)]:\n",
    "                neighbor = ((point[0]+adj[0]),(point[1]+adj[1]))\n",
    "                if neighbor in result:\n",
    "                    result[neighbor] = result[neighbor] + 1            \n",
    "\n",
    "    for point in flashes:\n",
    "        result[point] = 0\n",
    "\n",
    "    return result\n",
    "\n",
    "def calculate_part_one(input, steps, debug):\n",
    "    current = input\n",
    "    total_flashes = 0\n",
    "    for i in range(steps):\n",
    "        if debug:\n",
    "            print_field(current)\n",
    "        current = calculate_next(current)\n",
    "        total_flashes += sum(1 if current[p]==0 else 0 for p in current)\n",
    "    print_field(current)\n",
    "    print(total_flashes)\n",
    "\n",
    "calculate_part_one(parse(exampleSmallLines),2,True)"
   ]
  },
  {
   "cell_type": "code",
   "execution_count": 49,
   "metadata": {},
   "outputs": [
    {
     "name": "stdout",
     "output_type": "stream",
     "text": [
      "0481112976\n",
      "0031112009\n",
      "0041112504\n",
      "0081111406\n",
      "0099111306\n",
      "0093511233\n",
      "0442361130\n",
      "5532252350\n",
      "0532250600\n",
      "0032240000\n",
      "\n",
      "204\n"
     ]
    }
   ],
   "source": [
    "calculate_part_one(parse(exampleLines),10,False)"
   ]
  },
  {
   "cell_type": "code",
   "execution_count": 50,
   "metadata": {},
   "outputs": [
    {
     "name": "stdout",
     "output_type": "stream",
     "text": [
      "0397666866\n",
      "0749766918\n",
      "0053976933\n",
      "0004297822\n",
      "0004229892\n",
      "0053222877\n",
      "0532222966\n",
      "9322228966\n",
      "7922286866\n",
      "6789998766\n",
      "\n",
      "1656\n"
     ]
    }
   ],
   "source": [
    "calculate_part_one(parse(exampleLines),100,False)"
   ]
  },
  {
   "cell_type": "code",
   "execution_count": 51,
   "metadata": {},
   "outputs": [
    {
     "name": "stdout",
     "output_type": "stream",
     "text": [
      "0066181976\n",
      "0421117697\n",
      "2211117608\n",
      "1111117709\n",
      "1111119909\n",
      "1111154009\n",
      "1111533609\n",
      "1116323508\n",
      "8116555097\n",
      "6851112976\n",
      "\n",
      "1669\n"
     ]
    }
   ],
   "source": [
    "calculate_part_one(parse(lines),100,False)"
   ]
  },
  {
   "cell_type": "code",
   "execution_count": 53,
   "metadata": {},
   "outputs": [
    {
     "data": {
      "text/plain": [
       "195"
      ]
     },
     "execution_count": 53,
     "metadata": {},
     "output_type": "execute_result"
    }
   ],
   "source": [
    "def calculate_part_two(input):\n",
    "    current = input    \n",
    "    for n in range(1000):        \n",
    "        current = calculate_next(current)\n",
    "        flashes = sum(1 if current[p]==0 else 0 for p in current)\n",
    "        if flashes == len(current):\n",
    "            return n+1\n",
    "    return None\n",
    "\n",
    "calculate_part_two(parse(exampleLines))"
   ]
  },
  {
   "cell_type": "code",
   "execution_count": 8,
   "metadata": {},
   "outputs": [
    {
     "data": {
      "text/plain": [
       "0"
      ]
     },
     "execution_count": 8,
     "metadata": {},
     "output_type": "execute_result"
    }
   ],
   "source": [
    "calculate_part_two(parse(lines))"
   ]
  }
 ],
 "metadata": {
  "interpreter": {
   "hash": "fcd7bd45f351dd23b7a4d8eb4c9674b82763fce30f8b7d1ce24b9e6f66f71e8e"
  },
  "kernelspec": {
   "display_name": "Python 3.9.5 64-bit",
   "language": "python",
   "name": "python3"
  },
  "language_info": {
   "codemirror_mode": {
    "name": "ipython",
    "version": 3
   },
   "file_extension": ".py",
   "mimetype": "text/x-python",
   "name": "python",
   "nbconvert_exporter": "python",
   "pygments_lexer": "ipython3",
   "version": "3.9.5"
  },
  "orig_nbformat": 4
 },
 "nbformat": 4,
 "nbformat_minor": 2
}
