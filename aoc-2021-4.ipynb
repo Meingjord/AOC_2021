{
 "cells": [
  {
   "cell_type": "code",
   "execution_count": 1,
   "metadata": {},
   "outputs": [],
   "source": [
    "import pandas as pd\n",
    "import os\n",
    "import copy\n",
    "import unittest\n",
    "import string\n",
    "import re"
   ]
  },
  {
   "cell_type": "code",
   "execution_count": 2,
   "metadata": {},
   "outputs": [],
   "source": [
    "trainFile = \"C:/Code/advent/2021_day4_input.txt\"\n",
    "pwd = os.getcwd()\n",
    "os.chdir(os.path.dirname(trainFile))\n",
    "file1 = open(trainFile, 'r') \n",
    "lines = file1.read().splitlines()"
   ]
  },
  {
   "cell_type": "code",
   "execution_count": 14,
   "metadata": {},
   "outputs": [
    {
     "data": {
      "text/plain": [
       "['7,4,9,5,11,17,23,2,0,14,21,24,10,16,13,6,15,25,12,22,18,20,8,19,3,26,1',\n",
       " '',\n",
       " '22 13 17 11  0',\n",
       " ' 8  2 23  4 24',\n",
       " '21  9 14 16  7',\n",
       " ' 6 10  3 18  5',\n",
       " ' 1 12 20 15 19',\n",
       " '',\n",
       " ' 3 15  0  2 22',\n",
       " ' 9 18 13 17  5',\n",
       " '19  8  7 25 23',\n",
       " '20 11 10 24  4',\n",
       " '14 21 16 12  6',\n",
       " '',\n",
       " '14 21 17 24  4',\n",
       " '10 16 15  9 19',\n",
       " '18  8 23 26 20',\n",
       " '22 11 13  6  5',\n",
       " ' 2  0 12  3  7']"
      ]
     },
     "execution_count": 14,
     "metadata": {},
     "output_type": "execute_result"
    }
   ],
   "source": [
    "exampleFile = \"C:/Code/advent/2021_day4_example.txt\"\n",
    "pwd = os.getcwd()\n",
    "os.chdir(os.path.dirname(exampleFile))\n",
    "file2 = open(exampleFile, 'r') \n",
    "exampleLines = file2.read().splitlines()\n",
    "exampleLines"
   ]
  },
  {
   "cell_type": "code",
   "execution_count": 16,
   "metadata": {},
   "outputs": [
    {
     "data": {
      "text/plain": [
       "([7,\n",
       "  4,\n",
       "  9,\n",
       "  5,\n",
       "  11,\n",
       "  17,\n",
       "  23,\n",
       "  2,\n",
       "  0,\n",
       "  14,\n",
       "  21,\n",
       "  24,\n",
       "  10,\n",
       "  16,\n",
       "  13,\n",
       "  6,\n",
       "  15,\n",
       "  25,\n",
       "  12,\n",
       "  22,\n",
       "  18,\n",
       "  20,\n",
       "  8,\n",
       "  19,\n",
       "  3,\n",
       "  26,\n",
       "  1],\n",
       " [[[22, 13, 17, 11, 0],\n",
       "   [8, 2, 23, 4, 24],\n",
       "   [21, 9, 14, 16, 7],\n",
       "   [6, 10, 3, 18, 5],\n",
       "   [1, 12, 20, 15, 19]],\n",
       "  [[3, 15, 0, 2, 22],\n",
       "   [9, 18, 13, 17, 5],\n",
       "   [19, 8, 7, 25, 23],\n",
       "   [20, 11, 10, 24, 4],\n",
       "   [14, 21, 16, 12, 6]],\n",
       "  [[14, 21, 17, 24, 4],\n",
       "   [10, 16, 15, 9, 19],\n",
       "   [18, 8, 23, 26, 20],\n",
       "   [22, 11, 13, 6, 5],\n",
       "   [2, 0, 12, 3, 7]]])"
      ]
     },
     "execution_count": 16,
     "metadata": {},
     "output_type": "execute_result"
    }
   ],
   "source": [
    "def parseBoardLine(txt):\n",
    "    return [int(s) for s in txt.split() if s.isdigit()]\n",
    "\n",
    "def parseBoard(input):\n",
    "    return list(map(parseBoardLine, input)) \n",
    "\n",
    "def splitInput(input):\n",
    "    balls = list(map(int,input[0].split(',')))\n",
    "    i = 2\n",
    "    boards = []\n",
    "    while i < len(input):\n",
    "        boards.append(parseBoard(input[i: i+5]))\n",
    "        i += 6\n",
    "    return balls, boards\n",
    "\n",
    "splitInput(exampleLines)"
   ]
  },
  {
   "cell_type": "code",
   "execution_count": 36,
   "metadata": {},
   "outputs": [
    {
     "data": {
      "text/plain": [
       "([2, 11, 23, 9, 4],\n",
       " [14, 21, 24, 10, 16, 15, 19, 18, 8, 26, 20, 22, 13, 6, 0, 12, 3],\n",
       " 2,\n",
       " 247,\n",
       " 494)"
      ]
     },
     "execution_count": 36,
     "metadata": {},
     "output_type": "execute_result"
    }
   ],
   "source": [
    "def create_permutations(board):\n",
    "    permutations = copy.deepcopy(board)\n",
    "    dim = 5\n",
    "    for i in range(dim):\n",
    "        column = []        \n",
    "        for row in range(dim):\n",
    "            column.append(board[row][i])\n",
    "        permutations.append(column)\n",
    "        \n",
    "    diagonal = []\n",
    "    diagonal2 = []\n",
    "    for i in range(dim):\n",
    "        diagonal.append(board[i][i])\n",
    "        diagonal2.append(board[dim-i-1][i])\n",
    "\n",
    "    permutations.append(diagonal)\n",
    "    permutations.append(diagonal2)\n",
    "\n",
    "    return permutations\n",
    "\n",
    "def row_is_match(balls, row):\n",
    "    for number in row:\n",
    "        if number not in balls:\n",
    "            return False\n",
    "    return True\n",
    "\n",
    "def findBingo(balls, board):\n",
    "    permutations = create_permutations(board)\n",
    "    for row in permutations:\n",
    "        if row_is_match(balls, row):\n",
    "            return row            \n",
    "    return None\n",
    "\n",
    "def find_unmarked(balls, board):\n",
    "    result = []\n",
    "    for row in board:\n",
    "        for number in row:\n",
    "            if number not in balls:\n",
    "                result.append(number)\n",
    "    return result\n",
    "\n",
    "def solvePartOne(input):\n",
    "    (balls, boards) = splitInput(input)    \n",
    "    count = 1\n",
    "    while count < len(balls):\n",
    "        subset = balls[0:count]        \n",
    "        for b in boards:\n",
    "            bingo = findBingo(subset, b)\n",
    "            if bingo is not None:\n",
    "                unmarked = find_unmarked(subset, b)\n",
    "                return (bingo, unmarked, subset[-1], sum(unmarked), sum(unmarked)*subset[-1])\n",
    "        count += 1\n",
    "\n",
    "solvePartOne(exampleLines)"
   ]
  },
  {
   "cell_type": "code",
   "execution_count": 28,
   "metadata": {},
   "outputs": [
    {
     "data": {
      "text/plain": [
       "([93, 88, 41, 77, 57],\n",
       " [36, 13, 44, 81, 48, 6, 64, 2, 3, 10, 8, 26, 7, 1, 90],\n",
       " 57,\n",
       " 439,\n",
       " 25023)"
      ]
     },
     "execution_count": 28,
     "metadata": {},
     "output_type": "execute_result"
    }
   ],
   "source": [
    "solvePartOne(lines)"
   ]
  },
  {
   "cell_type": "code",
   "execution_count": 38,
   "metadata": {},
   "outputs": [
    {
     "data": {
      "text/plain": [
       "([0, 13, 7, 10, 16], [3, 15, 22, 18, 19, 8, 25, 20, 12, 6], 13, 148, 1924)"
      ]
     },
     "execution_count": 38,
     "metadata": {},
     "output_type": "execute_result"
    }
   ],
   "source": [
    "def solvePartTwo(input):\n",
    "    (balls, boards) = splitInput(input)    \n",
    "    count = 1\n",
    "    winners = []\n",
    "    lastScore = None\n",
    "    while count < len(balls):\n",
    "        subset = balls[0:count]\n",
    "        playingBoards = list(filter(lambda x : x not in winners ,range(len(boards))))\n",
    "        #print(playingBoards, subset[-1])\n",
    "        for index in playingBoards:\n",
    "            b = boards[index]\n",
    "            bingo = findBingo(subset, b)\n",
    "            if bingo is not None:\n",
    "                winners.append(index)\n",
    "                unmarked = find_unmarked(subset, b)\n",
    "                lastScore = (bingo, unmarked, subset[-1], sum(unmarked), sum(unmarked)*subset[-1])\n",
    "        count += 1\n",
    "    return lastScore\n",
    "\n",
    "solvePartTwo(exampleLines)"
   ]
  },
  {
   "cell_type": "code",
   "execution_count": 39,
   "metadata": {},
   "outputs": [
    {
     "data": {
      "text/plain": [
       "([6, 36, 50, 82, 0], [60, 47, 63, 90, 73, 35, 71], 6, 439, 2634)"
      ]
     },
     "execution_count": 39,
     "metadata": {},
     "output_type": "execute_result"
    }
   ],
   "source": [
    "solvePartTwo(lines)"
   ]
  }
 ],
 "metadata": {
  "interpreter": {
   "hash": "fcd7bd45f351dd23b7a4d8eb4c9674b82763fce30f8b7d1ce24b9e6f66f71e8e"
  },
  "kernelspec": {
   "display_name": "Python 3.9.5 64-bit",
   "language": "python",
   "name": "python3"
  },
  "language_info": {
   "codemirror_mode": {
    "name": "ipython",
    "version": 3
   },
   "file_extension": ".py",
   "mimetype": "text/x-python",
   "name": "python",
   "nbconvert_exporter": "python",
   "pygments_lexer": "ipython3",
   "version": "3.9.5"
  },
  "orig_nbformat": 4
 },
 "nbformat": 4,
 "nbformat_minor": 2
}
