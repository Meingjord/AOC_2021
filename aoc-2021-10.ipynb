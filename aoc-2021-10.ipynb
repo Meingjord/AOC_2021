{
 "cells": [
  {
   "cell_type": "code",
   "execution_count": 6,
   "metadata": {},
   "outputs": [],
   "source": [
    "import pandas as pd\n",
    "import os\n",
    "import copy\n",
    "import unittest\n",
    "import string\n",
    "import re"
   ]
  },
  {
   "cell_type": "code",
   "execution_count": 7,
   "metadata": {},
   "outputs": [],
   "source": [
    "trainFile = \"C:/Code/advent/2021_day10_input.txt\"\n",
    "pwd = os.getcwd()\n",
    "os.chdir(os.path.dirname(trainFile))\n",
    "file1 = open(trainFile, 'r') \n",
    "lines = file1.read().splitlines()"
   ]
  },
  {
   "cell_type": "code",
   "execution_count": 8,
   "metadata": {},
   "outputs": [
    {
     "data": {
      "text/plain": [
       "['[({(<(())[]>[[{[]{<()<>>',\n",
       " '[(()[<>])]({[<{<<[]>>(',\n",
       " '{([(<{}[<>[]}>{[]{[(<()>',\n",
       " '(((({<>}<{<{<>}{[]{[]{}',\n",
       " '[[<[([]))<([[{}[[()]]]',\n",
       " '[{[{({}]{}}([{[{{{}}([]',\n",
       " '{<[[]]>}<{[{[{[]{()[[[]',\n",
       " '[<(<(<(<{}))><([]([]()',\n",
       " '<{([([[(<>()){}]>(<<{{',\n",
       " '<{([{{}}[<[[[<>{}]]]>[]]']"
      ]
     },
     "execution_count": 8,
     "metadata": {},
     "output_type": "execute_result"
    }
   ],
   "source": [
    "exampleFile = \"C:/Code/advent/2021_day10_example.txt\"\n",
    "pwd = os.getcwd()\n",
    "os.chdir(os.path.dirname(exampleFile))\n",
    "file2 = open(exampleFile, 'r') \n",
    "exampleLines = file2.read().splitlines()\n",
    "exampleLines"
   ]
  },
  {
   "cell_type": "code",
   "execution_count": 10,
   "metadata": {},
   "outputs": [
    {
     "data": {
      "text/plain": [
       "['[({(<(())[]>[[{[]{<()<>>',\n",
       " '[(()[<>])]({[<{<<[]>>(',\n",
       " '{([(<{}[<>[]}>{[]{[(<()>',\n",
       " '(((({<>}<{<{<>}{[]{[]{}',\n",
       " '[[<[([]))<([[{}[[()]]]',\n",
       " '[{[{({}]{}}([{[{{{}}([]',\n",
       " '{<[[]]>}<{[{[{[]{()[[[]',\n",
       " '[<(<(<(<{}))><([]([]()',\n",
       " '<{([([[(<>()){}]>(<<{{',\n",
       " '<{([{{}}[<[[[<>{}]]]>[]]']"
      ]
     },
     "execution_count": 10,
     "metadata": {},
     "output_type": "execute_result"
    }
   ],
   "source": [
    "def parse_line(txt):    \n",
    "    #return list(map(lambda x: x, txt))\n",
    "    return txt\n",
    "\n",
    "def parse(input):\n",
    "    return list(map(parse_line, input))\n",
    "\n",
    "parse(exampleLines)"
   ]
  },
  {
   "cell_type": "code",
   "execution_count": 24,
   "metadata": {},
   "outputs": [
    {
     "data": {
      "text/plain": [
       "26397"
      ]
     },
     "execution_count": 24,
     "metadata": {},
     "output_type": "execute_result"
    }
   ],
   "source": [
    "def calculate_score(input):\n",
    "    stack = []\n",
    "    for c in input:\n",
    "        if c in ['<','(','[','{']:\n",
    "            stack.append(c)\n",
    "        elif c == '>':\n",
    "            if stack[-1] == '<':\n",
    "                stack.pop()\n",
    "            else:\n",
    "                return 25137\n",
    "        elif c == ')':\n",
    "            if stack[-1] == '(':\n",
    "                stack.pop()\n",
    "            else:\n",
    "                return 3\n",
    "        elif c == ']':\n",
    "            if stack[-1] == '[':\n",
    "                stack.pop()\n",
    "            else:\n",
    "                return 57\n",
    "        elif c == '}':\n",
    "            if stack[-1] == '{':\n",
    "                stack.pop()\n",
    "            else:\n",
    "                return 1197\n",
    "    return 0                     \n",
    "\n",
    "def calculate_part_one(input):\n",
    "    return sum(calculate_score(x) for x in input)\n",
    "\n",
    "calculate_part_one(parse(exampleLines))"
   ]
  },
  {
   "cell_type": "code",
   "execution_count": 25,
   "metadata": {},
   "outputs": [
    {
     "data": {
      "text/plain": [
       "464991"
      ]
     },
     "execution_count": 25,
     "metadata": {},
     "output_type": "execute_result"
    }
   ],
   "source": [
    "calculate_part_one(parse(lines))"
   ]
  },
  {
   "cell_type": "code",
   "execution_count": 32,
   "metadata": {},
   "outputs": [
    {
     "data": {
      "text/plain": [
       "288957"
      ]
     },
     "execution_count": 32,
     "metadata": {},
     "output_type": "execute_result"
    }
   ],
   "source": [
    "def autocomplete_score(input):\n",
    "    result = 0\n",
    "    for c in reversed(input):\n",
    "        result *= 5\n",
    "        if c == '(':\n",
    "            result += 1\n",
    "        elif c == '[':\n",
    "            result += 2\n",
    "        elif c == '{':\n",
    "            result += 3\n",
    "        elif c == '<':\n",
    "            result += 4\n",
    "    return result\n",
    "\n",
    "def calculate_autocomplete(input):\n",
    "    stack = []\n",
    "    for c in input:\n",
    "        if c in ['<','(','[','{']:\n",
    "            stack.append(c)\n",
    "        elif c == '>':\n",
    "            if stack[-1] == '<':\n",
    "                stack.pop()\n",
    "            else:\n",
    "                return None\n",
    "        elif c == ')':\n",
    "            if stack[-1] == '(':\n",
    "                stack.pop()\n",
    "            else:\n",
    "                return None\n",
    "        elif c == ']':\n",
    "            if stack[-1] == '[':\n",
    "                stack.pop()\n",
    "            else:\n",
    "                return None\n",
    "        elif c == '}':\n",
    "            if stack[-1] == '{':\n",
    "                stack.pop()\n",
    "            else:\n",
    "                return None\n",
    "    return autocomplete_score(stack)\n",
    "\n",
    "def calculate_part_two(input):\n",
    "    results = []\n",
    "    for x in input:\n",
    "        result = calculate_autocomplete(x)\n",
    "        if result is not None:\n",
    "            results.append(result)\n",
    "    sorted_results = sorted(results)\n",
    "    return sorted_results[len(sorted_results) // 2]\n",
    "\n",
    "calculate_part_two(parse(exampleLines))"
   ]
  },
  {
   "cell_type": "code",
   "execution_count": 33,
   "metadata": {},
   "outputs": [
    {
     "data": {
      "text/plain": [
       "3662008566"
      ]
     },
     "execution_count": 33,
     "metadata": {},
     "output_type": "execute_result"
    }
   ],
   "source": [
    "calculate_part_two(parse(lines))"
   ]
  }
 ],
 "metadata": {
  "interpreter": {
   "hash": "fcd7bd45f351dd23b7a4d8eb4c9674b82763fce30f8b7d1ce24b9e6f66f71e8e"
  },
  "kernelspec": {
   "display_name": "Python 3.9.5 64-bit",
   "language": "python",
   "name": "python3"
  },
  "language_info": {
   "codemirror_mode": {
    "name": "ipython",
    "version": 3
   },
   "file_extension": ".py",
   "mimetype": "text/x-python",
   "name": "python",
   "nbconvert_exporter": "python",
   "pygments_lexer": "ipython3",
   "version": "3.9.5"
  },
  "orig_nbformat": 4
 },
 "nbformat": 4,
 "nbformat_minor": 2
}
