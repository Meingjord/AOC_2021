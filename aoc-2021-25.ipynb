{
 "cells": [
  {
   "cell_type": "code",
   "execution_count": 14,
   "metadata": {},
   "outputs": [],
   "source": [
    "import pandas as pd\n",
    "import os\n",
    "import copy\n",
    "import unittest\n",
    "import string\n",
    "import re\n",
    "\n",
    "def read_file(trainFile):\n",
    "    pwd = os.getcwd()\n",
    "    os.chdir(os.path.dirname(trainFile))\n",
    "    file1 = open(trainFile, 'r') \n",
    "    lines = file1.read().splitlines()\n",
    "    return lines"
   ]
  },
  {
   "cell_type": "code",
   "execution_count": 15,
   "metadata": {},
   "outputs": [],
   "source": [
    "lines = read_file(\"C:/Code/advent/2021_day25_input.txt\")"
   ]
  },
  {
   "cell_type": "code",
   "execution_count": 16,
   "metadata": {},
   "outputs": [
    {
     "data": {
      "text/plain": [
       "['v...>>.vv>',\n",
       " '.vv>>.vv..',\n",
       " '>>.>v>...v',\n",
       " '>>v>>.>.v.',\n",
       " 'v>v.vv.v..',\n",
       " '>.>>..v...',\n",
       " '.vv..>.>v.',\n",
       " 'v.v..>>v.v',\n",
       " '....v..v.>']"
      ]
     },
     "execution_count": 16,
     "metadata": {},
     "output_type": "execute_result"
    }
   ],
   "source": [
    "lines_example1 = read_file(\"C:/Code/advent/2021_day25_example1.txt\")\n",
    "lines_example1"
   ]
  },
  {
   "cell_type": "code",
   "execution_count": 17,
   "metadata": {},
   "outputs": [
    {
     "name": "stdout",
     "output_type": "stream",
     "text": [
      "v...>>.vv>\n",
      ".vv>>.vv..\n",
      ">>.>v>...v\n",
      ">>v>>.>.v.\n",
      "v>v.vv.v..\n",
      ">.>>..v...\n",
      ".vv..>.>v.\n",
      "v.v..>>v.v\n",
      "....v..v.>\n",
      "\n"
     ]
    }
   ],
   "source": [
    "def parse(input):\n",
    "    result = {}\n",
    "    row = 0\n",
    "    for line in input:\n",
    "        col = 0\n",
    "        for c in line:\n",
    "            point = (col,row)\n",
    "            result[point] = c\n",
    "            col += 1\n",
    "        row += 1\n",
    "    return result\n",
    "\n",
    "def print_field(input):\n",
    "    x_n = 0\n",
    "    y_n = 0\n",
    "    for point in input:\n",
    "        x_n = max(x_n, point[0])\n",
    "        y_n = max(y_n, point[1])\n",
    "    for y in range(y_n+1):\n",
    "        line = ''\n",
    "        for x in range(x_n+1):\n",
    "            line += str(input[(x,y)])\n",
    "        print(line)\n",
    "    print('')\n",
    "\n",
    "print_field(parse(lines_example1))"
   ]
  },
  {
   "cell_type": "code",
   "execution_count": 46,
   "metadata": {},
   "outputs": [
    {
     "name": "stdout",
     "output_type": "stream",
     "text": [
      "v...>>.vv>\n",
      ".vv>>.vv..\n",
      ">>.>v>...v\n",
      ">>v>>.>.v.\n",
      "v>v.vv.v..\n",
      ">.>>..v...\n",
      ".vv..>.>v.\n",
      "v.v..>>v.v\n",
      "....v..v.>\n",
      "\n"
     ]
    }
   ],
   "source": [
    "def remove_dots(input):\n",
    "    x_n = 0\n",
    "    y_n = 0\n",
    "    animals = {}\n",
    "    for point in input:\n",
    "        x_n = max(x_n, point[0])\n",
    "        y_n = max(y_n, point[1])\n",
    "        animal = input[point]\n",
    "        if animal != '.':\n",
    "            animals[point] = animal\n",
    "    return animals, (x_n+1,y_n+1)\n",
    "\n",
    "def print_animals(input, dim):\n",
    "    x_n, y_n = dim\n",
    "    for y in range(y_n):\n",
    "        line = ''\n",
    "        for x in range(x_n):\n",
    "            line += input.get((x,y),'.')\n",
    "        print(line)\n",
    "    print('')\n",
    "print_animals(remove_dots(parse(lines_example1))[0],remove_dots(parse(lines_example1))[1])"
   ]
  },
  {
   "cell_type": "code",
   "execution_count": 57,
   "metadata": {},
   "outputs": [
    {
     "data": {
      "text/plain": [
       "58"
      ]
     },
     "execution_count": 57,
     "metadata": {},
     "output_type": "execute_result"
    }
   ],
   "source": [
    "def advance_slice(animals, dim, target):\n",
    "    new_animals = {}\n",
    "    move_count = 0\n",
    "    for a in animals:\n",
    "        animal = animals[a]\n",
    "        new_position = a\n",
    "        if animal == target:            \n",
    "            if target == '>':\n",
    "                new_position = ((new_position[0]+1)%dim[0], new_position[1])\n",
    "            elif target == 'v':\n",
    "                new_position = (new_position[0], (new_position[1]+1)%dim[1])\n",
    "            if not new_position in animals:\n",
    "                move_count += 1\n",
    "                #print('moving', target, a, new_position)\n",
    "            else:\n",
    "                #print('keeping', target, a)\n",
    "                new_position = a\n",
    "        new_animals[new_position] = animal\n",
    "    return (new_animals, move_count)\n",
    "\n",
    "def advance(animals, dim):\n",
    "    right = advance_slice(animals, dim, '>')\n",
    "    #print_animals(right[0], dim)\n",
    "    down = advance_slice(right[0], dim, 'v')    \n",
    "    return (down[0], down[1] + right[1])\n",
    "\n",
    "def calculate_part_one(input, debug):\n",
    "    animals, dim = input\n",
    "    if debug:\n",
    "        print('dimensions', dim)\n",
    "        print_animals(animals,dim)\n",
    "    n = 0\n",
    "    count = 1\n",
    "    while count > 0 and n < 1000:\n",
    "        next = advance(animals, dim)\n",
    "        count = next[1]\n",
    "        animals = next[0]\n",
    "        n += 1\n",
    "        if debug and (n % 10 == 0 or count == 0):\n",
    "            print('-----------------------------')\n",
    "            print('step',n)            \n",
    "            print_animals(animals, dim)\n",
    "            \n",
    "    return n\n",
    "    \n",
    "calculate_part_one(remove_dots(parse(lines_example1)), False)"
   ]
  },
  {
   "cell_type": "code",
   "execution_count": 58,
   "metadata": {},
   "outputs": [
    {
     "data": {
      "text/plain": [
       "419"
      ]
     },
     "execution_count": 58,
     "metadata": {},
     "output_type": "execute_result"
    }
   ],
   "source": [
    "calculate_part_one(remove_dots(parse(lines)), False)"
   ]
  },
  {
   "cell_type": "code",
   "execution_count": 21,
   "metadata": {},
   "outputs": [
    {
     "ename": "NameError",
     "evalue": "name 'calculate_part_two' is not defined",
     "output_type": "error",
     "traceback": [
      "\u001b[1;31m---------------------------------------------------------------------------\u001b[0m",
      "\u001b[1;31mNameError\u001b[0m                                 Traceback (most recent call last)",
      "\u001b[1;32mC:\\Users\\TE427~1.GRA\\AppData\\Local\\Temp/ipykernel_41072/2372355834.py\u001b[0m in \u001b[0;36m<module>\u001b[1;34m\u001b[0m\n\u001b[1;32m----> 1\u001b[1;33m \u001b[0mcalculate_part_two\u001b[0m\u001b[1;33m(\u001b[0m\u001b[0mparse\u001b[0m\u001b[1;33m(\u001b[0m\u001b[0mlines\u001b[0m\u001b[1;33m)\u001b[0m\u001b[1;33m)\u001b[0m\u001b[1;33m\u001b[0m\u001b[1;33m\u001b[0m\u001b[0m\n\u001b[0m",
      "\u001b[1;31mNameError\u001b[0m: name 'calculate_part_two' is not defined"
     ]
    }
   ],
   "source": [
    "calculate_part_two(parse(lines))"
   ]
  }
 ],
 "metadata": {
  "interpreter": {
   "hash": "fcd7bd45f351dd23b7a4d8eb4c9674b82763fce30f8b7d1ce24b9e6f66f71e8e"
  },
  "kernelspec": {
   "display_name": "Python 3.9.5 64-bit",
   "language": "python",
   "name": "python3"
  },
  "language_info": {
   "codemirror_mode": {
    "name": "ipython",
    "version": 3
   },
   "file_extension": ".py",
   "mimetype": "text/x-python",
   "name": "python",
   "nbconvert_exporter": "python",
   "pygments_lexer": "ipython3",
   "version": "3.9.5"
  },
  "orig_nbformat": 4
 },
 "nbformat": 4,
 "nbformat_minor": 2
}
