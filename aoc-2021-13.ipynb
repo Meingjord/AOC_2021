{
 "cells": [
  {
   "cell_type": "code",
   "execution_count": 1,
   "metadata": {},
   "outputs": [],
   "source": [
    "import pandas as pd\n",
    "import os\n",
    "import copy\n",
    "import unittest\n",
    "import string\n",
    "import re\n",
    "\n",
    "def read_file(trainFile):\n",
    "    pwd = os.getcwd()\n",
    "    os.chdir(os.path.dirname(trainFile))\n",
    "    file1 = open(trainFile, 'r') \n",
    "    lines = file1.read().splitlines()\n",
    "    return lines"
   ]
  },
  {
   "cell_type": "code",
   "execution_count": 8,
   "metadata": {},
   "outputs": [],
   "source": [
    "lines = read_file(\"C:/Code/advent/2021_day13_input.txt\")"
   ]
  },
  {
   "cell_type": "code",
   "execution_count": 9,
   "metadata": {},
   "outputs": [
    {
     "data": {
      "text/plain": [
       "['6,10',\n",
       " '0,14',\n",
       " '9,10',\n",
       " '0,3',\n",
       " '10,4',\n",
       " '4,11',\n",
       " '6,0',\n",
       " '6,12',\n",
       " '4,1',\n",
       " '0,13',\n",
       " '10,12',\n",
       " '3,4',\n",
       " '3,0',\n",
       " '8,4',\n",
       " '1,10',\n",
       " '2,14',\n",
       " '8,10',\n",
       " '9,0',\n",
       " '',\n",
       " 'fold along y=7',\n",
       " 'fold along x=5']"
      ]
     },
     "execution_count": 9,
     "metadata": {},
     "output_type": "execute_result"
    }
   ],
   "source": [
    "lines_example1 = read_file(\"C:/Code/advent/2021_day13_example1.txt\")\n",
    "lines_example1"
   ]
  },
  {
   "cell_type": "code",
   "execution_count": 33,
   "metadata": {},
   "outputs": [
    {
     "name": "stdout",
     "output_type": "stream",
     "text": [
      "   *  *  * \n",
      "    *      \n",
      "           \n",
      "*          \n",
      "   *    * *\n",
      "           \n",
      "           \n",
      "           \n",
      "           \n",
      "           \n",
      " *    * ** \n",
      "    *      \n",
      "      *   *\n",
      "*          \n",
      "* *        \n",
      "\n"
     ]
    }
   ],
   "source": [
    "def parse(input):    \n",
    "    points = {}\n",
    "    commands = []\n",
    "    for line in input:\n",
    "        if ',' in line:\n",
    "            parts = line.split(',')\n",
    "            point = (int(parts[0]), int(parts[1]))\n",
    "            points[point] = 1\n",
    "        elif 'fold along' in line:\n",
    "            parts = line.split('=')\n",
    "            verb = parts[0]\n",
    "            coordinate = int(parts[1])\n",
    "            commands.append((verb, coordinate))\n",
    "    return (points, commands)\n",
    "\n",
    "def print_field(input):\n",
    "    x_n = 0\n",
    "    y_n = 0\n",
    "    for point in input:\n",
    "        x_n = max(x_n, point[0])\n",
    "        y_n = max(y_n, point[1])\n",
    "    for y in range(y_n+1):\n",
    "        line = ''\n",
    "        for x in range(x_n+1):\n",
    "            if (x,y) in input:\n",
    "                line += '*'\n",
    "            else:\n",
    "                line += ' '\n",
    "        print(line)\n",
    "    print('')\n",
    "\n",
    "print_field(parse(lines_example1)[0])"
   ]
  },
  {
   "cell_type": "code",
   "execution_count": 31,
   "metadata": {},
   "outputs": [
    {
     "name": "stdout",
     "output_type": "stream",
     "text": [
      "('fold along y', 7)\n",
      "17\n",
      "('fold along x', 5)\n",
      "16\n",
      "*****\n",
      "*...*\n",
      "*...*\n",
      "*...*\n",
      "*****\n",
      "\n"
     ]
    }
   ],
   "source": [
    "def apply_command(input, command):\n",
    "    result = {}\n",
    "    (verb,coordinate)=command\n",
    "    for point in input:\n",
    "        if verb == 'fold along x':\n",
    "            if point[0] <= coordinate:\n",
    "                result[point] = 1\n",
    "            else:\n",
    "                new_x = coordinate*2 - point[0]\n",
    "                result[(new_x,point[1])] = 1\n",
    "        elif verb == 'fold along y':\n",
    "            if point[1] <= coordinate:\n",
    "                result[point] = 1\n",
    "            else:\n",
    "                new_y = coordinate*2 - point[1]\n",
    "                result[(point[0],new_y)] = 1\n",
    "\n",
    "    return result\n",
    "\n",
    "def calculate_part_one(input):\n",
    "    (points, commands) = input   \n",
    "    current = points\n",
    "    for c in commands:\n",
    "        print(c)\n",
    "        current = apply_command(current, c)       \n",
    "        print(len(current))\n",
    "        #print()\n",
    "\n",
    "    print_field(current)\n",
    "    \n",
    "calculate_part_one(parse(lines_example1))"
   ]
  },
  {
   "cell_type": "code",
   "execution_count": 34,
   "metadata": {},
   "outputs": [
    {
     "name": "stdout",
     "output_type": "stream",
     "text": [
      "('fold along x', 655)\n",
      "751\n",
      "('fold along y', 447)\n",
      "625\n",
      "('fold along x', 327)\n",
      "515\n",
      "('fold along y', 223)\n",
      "429\n",
      "('fold along x', 163)\n",
      "349\n",
      "('fold along y', 111)\n",
      "284\n",
      "('fold along x', 81)\n",
      "238\n",
      "('fold along y', 55)\n",
      "203\n",
      "('fold along x', 40)\n",
      "163\n",
      "('fold along y', 27)\n",
      "141\n",
      "('fold along y', 13)\n",
      "118\n",
      "('fold along y', 6)\n",
      "95\n",
      "***   **  *  * ***  *  * *    *  * *   \n",
      "*  * *  * *  * *  * * *  *    * *  *   \n",
      "*  * *    **** *  * **   *    **   *   \n",
      "***  * ** *  * ***  * *  *    * *  *   \n",
      "*    *  * *  * * *  * *  *    * *  *   \n",
      "*     *** *  * *  * *  * **** *  * ****\n",
      "\n"
     ]
    }
   ],
   "source": [
    "calculate_part_one(parse(lines))"
   ]
  },
  {
   "cell_type": "code",
   "execution_count": 7,
   "metadata": {},
   "outputs": [
    {
     "ename": "NameError",
     "evalue": "name 'calculate_part_two' is not defined",
     "output_type": "error",
     "traceback": [
      "\u001b[1;31m---------------------------------------------------------------------------\u001b[0m",
      "\u001b[1;31mNameError\u001b[0m                                 Traceback (most recent call last)",
      "\u001b[1;32mC:\\Users\\TE427~1.GRA\\AppData\\Local\\Temp/ipykernel_8384/2372355834.py\u001b[0m in \u001b[0;36m<module>\u001b[1;34m\u001b[0m\n\u001b[1;32m----> 1\u001b[1;33m \u001b[0mcalculate_part_two\u001b[0m\u001b[1;33m(\u001b[0m\u001b[0mparse\u001b[0m\u001b[1;33m(\u001b[0m\u001b[0mlines\u001b[0m\u001b[1;33m)\u001b[0m\u001b[1;33m)\u001b[0m\u001b[1;33m\u001b[0m\u001b[1;33m\u001b[0m\u001b[0m\n\u001b[0m",
      "\u001b[1;31mNameError\u001b[0m: name 'calculate_part_two' is not defined"
     ]
    }
   ],
   "source": [
    "calculate_part_two(parse(lines))"
   ]
  }
 ],
 "metadata": {
  "interpreter": {
   "hash": "fcd7bd45f351dd23b7a4d8eb4c9674b82763fce30f8b7d1ce24b9e6f66f71e8e"
  },
  "kernelspec": {
   "display_name": "Python 3.9.5 64-bit",
   "language": "python",
   "name": "python3"
  },
  "language_info": {
   "codemirror_mode": {
    "name": "ipython",
    "version": 3
   },
   "file_extension": ".py",
   "mimetype": "text/x-python",
   "name": "python",
   "nbconvert_exporter": "python",
   "pygments_lexer": "ipython3",
   "version": "3.9.5"
  },
  "orig_nbformat": 4
 },
 "nbformat": 4,
 "nbformat_minor": 2
}
