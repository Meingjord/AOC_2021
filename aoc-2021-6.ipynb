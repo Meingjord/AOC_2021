{
 "cells": [
  {
   "cell_type": "code",
   "execution_count": 1,
   "metadata": {},
   "outputs": [],
   "source": [
    "import pandas as pd\n",
    "import os\n",
    "import copy\n",
    "import unittest\n",
    "import string\n",
    "import re"
   ]
  },
  {
   "cell_type": "code",
   "execution_count": 2,
   "metadata": {},
   "outputs": [],
   "source": [
    "trainFile = \"C:/Code/advent/2021_day6_input.txt\"\n",
    "pwd = os.getcwd()\n",
    "os.chdir(os.path.dirname(trainFile))\n",
    "file1 = open(trainFile, 'r') \n",
    "lines = file1.read().splitlines()"
   ]
  },
  {
   "cell_type": "code",
   "execution_count": 3,
   "metadata": {},
   "outputs": [
    {
     "data": {
      "text/plain": [
       "['3,4,3,1,2']"
      ]
     },
     "execution_count": 3,
     "metadata": {},
     "output_type": "execute_result"
    }
   ],
   "source": [
    "exampleFile = \"C:/Code/advent/2021_day6_example.txt\"\n",
    "pwd = os.getcwd()\n",
    "os.chdir(os.path.dirname(exampleFile))\n",
    "file2 = open(exampleFile, 'r') \n",
    "exampleLines = file2.read().splitlines()\n",
    "exampleLines"
   ]
  },
  {
   "cell_type": "code",
   "execution_count": 4,
   "metadata": {},
   "outputs": [
    {
     "data": {
      "text/plain": [
       "[3, 4, 3, 1, 2]"
      ]
     },
     "execution_count": 4,
     "metadata": {},
     "output_type": "execute_result"
    }
   ],
   "source": [
    "def parse_line(txt):\n",
    "    parts = txt.split(',')    \n",
    "    return list(map(int, parts))\n",
    "\n",
    "def parse(input):\n",
    "    return list(map(parse_line, input))[0]\n",
    "\n",
    "parse(exampleLines)"
   ]
  },
  {
   "cell_type": "code",
   "execution_count": 13,
   "metadata": {},
   "outputs": [
    {
     "data": {
      "text/plain": [
       "5934"
      ]
     },
     "execution_count": 13,
     "metadata": {},
     "output_type": "execute_result"
    }
   ],
   "source": [
    "def create_map(input):\n",
    "    result = {}\n",
    "    for value in input:\n",
    "        result[value] = result.get(value,0) + 1\n",
    "    return result\n",
    "\n",
    "def update_map(input):\n",
    "    result = {}\n",
    "    for key in input:\n",
    "        value = input[key]\n",
    "        if key == 0:\n",
    "            result[6] = result.get(6,0) + value\n",
    "            result[8] = result.get(8,0) + value\n",
    "        else:\n",
    "            result[key-1] = result.get(key-1,0) + value\n",
    "    return result\n",
    "\n",
    "def solve_part_1(input, days):\n",
    "    current = create_map(input)\n",
    "    for d in range(days):\n",
    "        next = update_map(current)\n",
    "        current = next\n",
    "    answer = sum(current[x] for x in current)\n",
    "    return answer\n",
    "\n",
    "solve_part_1(parse(exampleLines),80)"
   ]
  },
  {
   "cell_type": "code",
   "execution_count": 14,
   "metadata": {},
   "outputs": [
    {
     "data": {
      "text/plain": [
       "386536"
      ]
     },
     "execution_count": 14,
     "metadata": {},
     "output_type": "execute_result"
    }
   ],
   "source": [
    "solve_part_1(parse(lines),80)"
   ]
  },
  {
   "cell_type": "code",
   "execution_count": 15,
   "metadata": {},
   "outputs": [
    {
     "data": {
      "text/plain": [
       "26984457539"
      ]
     },
     "execution_count": 15,
     "metadata": {},
     "output_type": "execute_result"
    }
   ],
   "source": [
    "solve_part_1(parse(exampleLines),256)"
   ]
  },
  {
   "cell_type": "code",
   "execution_count": 16,
   "metadata": {},
   "outputs": [
    {
     "data": {
      "text/plain": [
       "1732821262171"
      ]
     },
     "execution_count": 16,
     "metadata": {},
     "output_type": "execute_result"
    }
   ],
   "source": [
    "solve_part_1(parse(lines),256)"
   ]
  }
 ],
 "metadata": {
  "interpreter": {
   "hash": "fcd7bd45f351dd23b7a4d8eb4c9674b82763fce30f8b7d1ce24b9e6f66f71e8e"
  },
  "kernelspec": {
   "display_name": "Python 3.9.5 64-bit",
   "language": "python",
   "name": "python3"
  },
  "language_info": {
   "codemirror_mode": {
    "name": "ipython",
    "version": 3
   },
   "file_extension": ".py",
   "mimetype": "text/x-python",
   "name": "python",
   "nbconvert_exporter": "python",
   "pygments_lexer": "ipython3",
   "version": "3.9.5"
  },
  "orig_nbformat": 4
 },
 "nbformat": 4,
 "nbformat_minor": 2
}
