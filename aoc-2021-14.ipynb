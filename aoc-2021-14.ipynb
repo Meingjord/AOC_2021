{
 "cells": [
  {
   "cell_type": "code",
   "execution_count": 1,
   "metadata": {},
   "outputs": [],
   "source": [
    "import pandas as pd\n",
    "import os\n",
    "import copy\n",
    "import unittest\n",
    "import string\n",
    "import re\n",
    "\n",
    "def read_file(trainFile):\n",
    "    pwd = os.getcwd()\n",
    "    os.chdir(os.path.dirname(trainFile))\n",
    "    file1 = open(trainFile, 'r') \n",
    "    lines = file1.read().splitlines()\n",
    "    return lines"
   ]
  },
  {
   "cell_type": "code",
   "execution_count": 2,
   "metadata": {},
   "outputs": [],
   "source": [
    "lines = read_file(\"C:/Code/advent/2021_day14_input.txt\")"
   ]
  },
  {
   "cell_type": "code",
   "execution_count": 3,
   "metadata": {},
   "outputs": [
    {
     "data": {
      "text/plain": [
       "['NNCB',\n",
       " '',\n",
       " 'CH -> B',\n",
       " 'HH -> N',\n",
       " 'CB -> H',\n",
       " 'NH -> C',\n",
       " 'HB -> C',\n",
       " 'HC -> B',\n",
       " 'HN -> C',\n",
       " 'NN -> C',\n",
       " 'BH -> H',\n",
       " 'NC -> B',\n",
       " 'NB -> B',\n",
       " 'BN -> B',\n",
       " 'BB -> N',\n",
       " 'BC -> B',\n",
       " 'CC -> N',\n",
       " 'CN -> C']"
      ]
     },
     "execution_count": 3,
     "metadata": {},
     "output_type": "execute_result"
    }
   ],
   "source": [
    "lines_example1 = read_file(\"C:/Code/advent/2021_day14_example1.txt\")\n",
    "lines_example1"
   ]
  },
  {
   "cell_type": "code",
   "execution_count": 10,
   "metadata": {},
   "outputs": [
    {
     "data": {
      "text/plain": [
       "('NNCB',\n",
       " {'CH': 'B',\n",
       "  'HH': 'N',\n",
       "  'CB': 'H',\n",
       "  'NH': 'C',\n",
       "  'HB': 'C',\n",
       "  'HC': 'B',\n",
       "  'HN': 'C',\n",
       "  'NN': 'C',\n",
       "  'BH': 'H',\n",
       "  'NC': 'B',\n",
       "  'NB': 'B',\n",
       "  'BN': 'B',\n",
       "  'BB': 'N',\n",
       "  'BC': 'B',\n",
       "  'CC': 'N',\n",
       "  'CN': 'C'})"
      ]
     },
     "execution_count": 10,
     "metadata": {},
     "output_type": "execute_result"
    }
   ],
   "source": [
    "def parse(input):    \n",
    "    rules = {}\n",
    "    polymer = None\n",
    "    for line in input:\n",
    "        if polymer is None:\n",
    "            polymer = line\n",
    "            continue\n",
    "        parts = line.split(' -> ')\n",
    "        if len(parts) == 2:\n",
    "            rules[parts[0]]=parts[1]\n",
    "\n",
    "    return (polymer, rules)\n",
    "\n",
    "parse(lines_example1)"
   ]
  },
  {
   "cell_type": "code",
   "execution_count": 27,
   "metadata": {},
   "outputs": [
    {
     "name": "stdout",
     "output_type": "stream",
     "text": [
      "NCNBCHB\n",
      "NBCCNBBBCBHCB\n",
      "NBBBCNCCNBBNBNBBCHBHHBCHB\n",
      "NBBNBNBBCCNBCNCCNBBNBBNBBBNBBNBBCBHCBHHNHCBBCBHCB\n",
      "NBBNBBNBBBNBBNBBCNCCNBBBCCNBCNCCNBBNBBNBBNBBNBBNBNBBNBBNBBNBBNBBCHBHHBCHBHHNHCNCHBCHBNBBCHBHHBCHB\n",
      "{'N': 865, 'B': 1749, 'C': 298, 'H': 161}\n"
     ]
    },
    {
     "data": {
      "text/plain": [
       "1588"
      ]
     },
     "execution_count": 27,
     "metadata": {},
     "output_type": "execute_result"
    }
   ],
   "source": [
    "def calculate_next(current, rules):\n",
    "    n = len(current)\n",
    "    result = []\n",
    "    for i in range(n-1):\n",
    "        result.append(current[i])        \n",
    "        key = current[i] + current[i+1]\n",
    "        middle = rules[key]\n",
    "        result.append(middle)\n",
    "\n",
    "    result.append(current[-1])\n",
    "    return result\n",
    "\n",
    "def calculate_score(input):\n",
    "    values = {}\n",
    "    for i in input:\n",
    "        values[i] = values.get(i,0) + 1\n",
    "\n",
    "    print(values)\n",
    "    \n",
    "    return max(values.values()) - min(values.values())\n",
    "\n",
    "def calculate_part_one(input):\n",
    "    current = input[0]\n",
    "    rules = input[1]\n",
    "    for i in range(10):\n",
    "        current = calculate_next(current, rules)\n",
    "        if i < 5:\n",
    "            print(\"\".join(current))\n",
    "\n",
    "    return calculate_score(current)\n",
    "    \n",
    "calculate_part_one(parse(lines_example1))"
   ]
  },
  {
   "cell_type": "code",
   "execution_count": 28,
   "metadata": {},
   "outputs": [
    {
     "name": "stdout",
     "output_type": "stream",
     "text": [
      "OVFKSVNOKBKHHPCHBVSVNOKBBBKSFHFBCFVONFB\n",
      "OKVCFNKNSOVONFOFKBBBKHHBHBPSCHHHBHVFSOVONFOFKBBPBPBBKNSVFKHVFSBFCFFNVVONNHFSB\n",
      "OFKBVSCFFVNOKCNVSPOKVVONNHFHOVFNKBBPBPBBKHHBHHBBHHBNPPSKCHHBHBHHBBHVVCFKSPOKVVONNHFHOVFNKBBPBNPBBNPBBPBBKCNVSOVCFNKHHVVCFKSKBVFBCFFHFVNKVSVVONNPNPHVFKSKB\n",
      "OVFNKBBHVFSKCFFHFNVONFOFKFCPNKVFSPPSOFKBVSVVONNPNPHVFKHHOKVCFVNOKBBPBNPBBNPBBPBBKHHBHHBBHBHHBPBBHBHHBHNOPOPPSFKFCHHBHHBBHHBBHBHHBPBBHVVSVSCFFNKNSPPSOFKBVSVVONNPNPHVFKHHOKVCFVNOKBBPBNPBBHNOPBBPBHNOPBBPBNPBBPBBKFCPNKVFSPOKVSCFFVNOKHHBHVVSVSCFFNKNSFKBBHVCFSBFCFFHFKHVFNVONOKBVFSOVSVVONNPNOPFNOPCHVVCFNKNSFKBB\n",
      "OKVCFVNOKBBPBBHVVCFKSFKFCFFHFKHVFVNKVVONNHFHOVFNKSFBCCPFNOKBVCFKSPPOPPSPOVFNKBBHVFSOVSVVONNPNOPFNOPCHVVCFNKHHBHHOFKBVSCFFNVONFOFKBBPBNPBBHNOPBBPBHNOPBBPBNPBBPBBKHHBHHBBHBHHBPBBHHBBHBHHBNPBBPBBHHBBHBHHBBHNNFOFPSOFPOPPSVFNKSFBCHHBHHBBHBHHBPBBHBHHBPBBHHBBHBHHBNPBBPBBHVVSVFSOVFSKCFFHFVNOKCNVSPPOPPSPOVFNKBBHVFSOVSVVONNPNOPFNOPCHVVCFNKHHBHHOFKBVSCFFNVONFOFKBBPBNPBBHNOPBBPBBHNNFOFPBBPBNPBBBHNNFOFPBBPBNPBBHNOPBBPBNPBBPBBKSFBCCPFNOKBVCFKSPPSOFKBVFSKCFFHFNVONFOFKHHBHHBBHVVSVFSOVFSKCFFHFVNOKCNVSVFNKBBPBBHVVSCFFKSKBVFBCFFHFKHVFNKHHVVCFVNKVVONNFOFKBBHVCFKSPOKVFSOVSVVONNPNOPFNFOFPHFVNFOFPSCHHVVSVSCFFVNOKCNVSVFNKBBPB\n",
      "{'O': 1579, 'V': 1984, 'F': 2485, 'N': 2197, 'K': 1122, 'B': 3523, 'H': 2426, 'S': 1006, 'C': 755, 'P': 2380}\n"
     ]
    },
    {
     "data": {
      "text/plain": [
       "2768"
      ]
     },
     "execution_count": 28,
     "metadata": {},
     "output_type": "execute_result"
    }
   ],
   "source": [
    "calculate_part_one(parse(lines))"
   ]
  },
  {
   "cell_type": "code",
   "execution_count": 47,
   "metadata": {},
   "outputs": [
    {
     "name": "stdout",
     "output_type": "stream",
     "text": [
      "{'NB': 1094472770278, 'BB': 1094624367533, 'BN': 1093021098466, 'BC': 2903343622, 'CC': 1451671811, 'CN': 2541358752, 'NC': 1089686941, 'CB': 1554005966, 'BH': 1490759980, 'HC': 1152932927, 'HH': 823172187, 'HN': 485345134, 'NH': 485345134, 'CH': 1050598772, 'HB': 1388425825}\n",
      "{'N': 2192095604706, 'B': 4384079139204, 'C': 13195270602, 'H': 7699752146}\n"
     ]
    },
    {
     "data": {
      "text/plain": [
       "2188189693529"
      ]
     },
     "execution_count": 47,
     "metadata": {},
     "output_type": "execute_result"
    }
   ],
   "source": [
    "def calculate_next_two(current, rules):\n",
    "    result = {}\n",
    "    for key in current:\n",
    "        first = key[0]\n",
    "        last = key[1]\n",
    "        middle = rules[key]\n",
    "        left =  first + middle\n",
    "        right = middle + last\n",
    "        count = current[key]\n",
    "        result[left] = result.get(left,0) + count\n",
    "        result[right] = result.get(right,0) + count\n",
    "\n",
    "    return result\n",
    "\n",
    "def calculate_score_two(input, polymer):\n",
    "    print(input)\n",
    "    values = {}\n",
    "    for j in input:\n",
    "        count = input[j]\n",
    "        for i in j:\n",
    "            values[i] = values.get(i,0) + count\n",
    "    start = polymer[0]\n",
    "    end = polymer[-1]\n",
    "    values[start] = values.get(start,0) + 1\n",
    "    values[end] = values.get(end,0) + 1\n",
    "    print(values)\n",
    "    \n",
    "    return (max(values.values()) - min(values.values()))//2\n",
    "\n",
    "def calculate_part_two(input):\n",
    "    rules = input[1]\n",
    "    polymer = input[0]\n",
    "    current = {}\n",
    "    for i in range(len(polymer)-1):\n",
    "        key = polymer[i] + polymer[i+1]\n",
    "        current[key] = current.get(key,0) + 1\n",
    "        \n",
    "    for i in range(40):\n",
    "        current = calculate_next_two(current, rules)\n",
    "\n",
    "    return calculate_score_two(current, polymer)\n",
    "    \n",
    "calculate_part_two(parse(lines_example1))"
   ]
  },
  {
   "cell_type": "code",
   "execution_count": 48,
   "metadata": {},
   "outputs": [
    {
     "name": "stdout",
     "output_type": "stream",
     "text": [
      "{'OV': 305648025903, 'VF': 581003030590, 'FN': 563767120876, 'NK': 304548363047, 'KB': 260944347904, 'BB': 1369547190421, 'BH': 1100055663268, 'HV': 441806472871, 'FS': 200751881033, 'SK': 96281620252, 'KC': 126984906237, 'CF': 580975376982, 'FF': 290480144423, 'FH': 268180934118, 'HF': 311336791468, 'FV': 281878840466, 'VN': 281878840466, 'KV': 239799714524, 'VV': 361831927029, 'VO': 281867371886, 'ON': 281867371886, 'NN': 312181352669, 'NH': 122944959894, 'HO': 245897414401, 'BP': 684809643745, 'PB': 1369708627887, 'BN': 342424810472, 'NP': 678949944325, 'HN': 342474173671, 'NO': 491758273078, 'OP': 475853290063, 'VS': 359185734298, 'SV': 220855171073, 'SO': 238105364068, 'OK': 305089870770, 'CN': 33028172958, 'NV': 173964938088, 'VC': 290495232559, 'KN': 66057963070, 'NS': 66057963070, 'SB': 21162592849, 'BF': 21162592849, 'FC': 84653878064, 'FK': 435144063424, 'KH': 268178622386, 'HH': 627062304483, 'HB': 631241780963, 'SC': 171403695847, 'BV': 130477046874, 'PN': 172610265790, 'KS': 132118734043, 'SP': 238041679080, 'PO': 255404730681, 'PF': 86308209823, 'NF': 245884277687, 'FO': 245884277687, 'OF': 390458873180, 'FP': 237918472938, 'PH': 104629963270, 'PS': 307620857224, 'CH': 108766490438, 'PP': 272784648697, 'CK': 8256139413, 'CC': 16512761713, 'CP': 33026476708, 'SF': 79885046499, 'KF': 63491285215, 'FB': 42326015687, 'BC': 42326015687, 'PC': 52316852184, 'BK': 8255516473, 'CB': 4127924079}\n",
      "{'O': 3517834863604, 'V': 4312524273656, 'F': 5301971257432, 'N': 4792580143716, 'K': 2315151146758, 'B': 7398116959580, 'H': 5199637875714, 'S': 2131470339336, 'C': 1569386684582, 'P': 5242768311112}\n"
     ]
    },
    {
     "data": {
      "text/plain": [
       "2914365137499"
      ]
     },
     "execution_count": 48,
     "metadata": {},
     "output_type": "execute_result"
    }
   ],
   "source": [
    "calculate_part_two(parse(lines))"
   ]
  }
 ],
 "metadata": {
  "interpreter": {
   "hash": "fcd7bd45f351dd23b7a4d8eb4c9674b82763fce30f8b7d1ce24b9e6f66f71e8e"
  },
  "kernelspec": {
   "display_name": "Python 3.9.5 64-bit",
   "language": "python",
   "name": "python3"
  },
  "language_info": {
   "codemirror_mode": {
    "name": "ipython",
    "version": 3
   },
   "file_extension": ".py",
   "mimetype": "text/x-python",
   "name": "python",
   "nbconvert_exporter": "python",
   "pygments_lexer": "ipython3",
   "version": "3.9.5"
  },
  "orig_nbformat": 4
 },
 "nbformat": 4,
 "nbformat_minor": 2
}
